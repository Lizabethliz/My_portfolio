{
 "cells": [
  {
   "cell_type": "code",
   "execution_count": 2,
   "id": "0e2f10b7-100b-4f6d-ad50-c314dd6649d5",
   "metadata": {},
   "outputs": [
    {
     "name": "stdout",
     "output_type": "stream",
     "text": [
      "AI is the future\n"
     ]
    }
   ],
   "source": [
    "print(\"AI is the future\")"
   ]
  },
  {
   "cell_type": "markdown",
   "id": "52b57fd5-3c68-47da-bab8-b36bd09a5339",
   "metadata": {},
   "source": [
    "#### Comments\n"
   ]
  },
  {
   "cell_type": "code",
   "execution_count": 4,
   "id": "b5344a14-cccc-4042-96fe-86848c13ac11",
   "metadata": {},
   "outputs": [
    {
     "name": "stdout",
     "output_type": "stream",
     "text": [
      "this is a data science class\n"
     ]
    }
   ],
   "source": [
    "# print this is a data science class\n",
    "print(\"this is a data science class\")"
   ]
  },
  {
   "cell_type": "code",
   "execution_count": 5,
   "id": "e25f40b9-2c83-4cd0-a27b-fe8fb9f36772",
   "metadata": {},
   "outputs": [],
   "source": [
    "# add two plus two"
   ]
  },
  {
   "cell_type": "code",
   "execution_count": 6,
   "id": "c884397e-d0d1-48bd-9b05-c29df5d8c5d6",
   "metadata": {},
   "outputs": [
    {
     "name": "stdout",
     "output_type": "stream",
     "text": [
      "4\n"
     ]
    }
   ],
   "source": [
    "print(2+2)"
   ]
  },
  {
   "cell_type": "code",
   "execution_count": 7,
   "id": "30fdbd01-028a-4840-a5e0-a0d0b05e2c5e",
   "metadata": {},
   "outputs": [
    {
     "data": {
      "text/plain": [
       "4"
      ]
     },
     "execution_count": 7,
     "metadata": {},
     "output_type": "execute_result"
    }
   ],
   "source": [
    "2 + 2"
   ]
  },
  {
   "cell_type": "markdown",
   "id": "8466fc7b-f058-4082-a62b-a302dc628a16",
   "metadata": {},
   "source": [
    "#### Variable"
   ]
  },
  {
   "cell_type": "code",
   "execution_count": 3,
   "id": "46bee6a3-847e-4335-9adb-039b9d6aaaed",
   "metadata": {},
   "outputs": [],
   "source": [
    "x = 5"
   ]
  },
  {
   "cell_type": "code",
   "execution_count": 4,
   "id": "57b865a8-4add-4d53-83d6-d724d52c08dc",
   "metadata": {},
   "outputs": [
    {
     "data": {
      "text/plain": [
       "5"
      ]
     },
     "execution_count": 4,
     "metadata": {},
     "output_type": "execute_result"
    }
   ],
   "source": [
    "x"
   ]
  },
  {
   "cell_type": "code",
   "execution_count": 5,
   "id": "71bcffb9-551d-4a51-8b86-9a939543e5ae",
   "metadata": {},
   "outputs": [
    {
     "data": {
      "text/plain": [
       "3"
      ]
     },
     "execution_count": 5,
     "metadata": {},
     "output_type": "execute_result"
    }
   ],
   "source": [
    "x\n",
    "3"
   ]
  },
  {
   "cell_type": "code",
   "execution_count": 7,
   "id": "c64c7c09-33dc-4e17-a4e1-681d59e7b69d",
   "metadata": {},
   "outputs": [
    {
     "name": "stdout",
     "output_type": "stream",
     "text": [
      "5\n",
      "3\n"
     ]
    }
   ],
   "source": [
    "print(x)\n",
    "print(3)"
   ]
  },
  {
   "cell_type": "code",
   "execution_count": 8,
   "id": "dabf0dc1-5008-4732-9048-208d7fb05d0b",
   "metadata": {},
   "outputs": [],
   "source": [
    "firstname = \"elizabeth\""
   ]
  },
  {
   "cell_type": "code",
   "execution_count": 11,
   "id": "a939355b-3bff-4cce-b0db-48d3675d73cf",
   "metadata": {},
   "outputs": [
    {
     "data": {
      "text/plain": [
       "'elizabeth'"
      ]
     },
     "execution_count": 11,
     "metadata": {},
     "output_type": "execute_result"
    }
   ],
   "source": [
    "firstname"
   ]
  },
  {
   "cell_type": "code",
   "execution_count": 10,
   "id": "b38a758c-faa7-4e68-b9a5-8663037fbaab",
   "metadata": {},
   "outputs": [],
   "source": [
    "a = \"john\"\n",
    "b = 70"
   ]
  },
  {
   "cell_type": "code",
   "execution_count": 14,
   "id": "27c31259-1a13-4cdb-89a2-8b08660d7f81",
   "metadata": {},
   "outputs": [],
   "source": [
    "a, b = \"john\", 70"
   ]
  },
  {
   "cell_type": "code",
   "execution_count": 15,
   "id": "4ef49847-33a5-47e3-ace9-33eae45daa44",
   "metadata": {},
   "outputs": [
    {
     "data": {
      "text/plain": [
       "'john'"
      ]
     },
     "execution_count": 15,
     "metadata": {},
     "output_type": "execute_result"
    }
   ],
   "source": [
    "a"
   ]
  },
  {
   "cell_type": "code",
   "execution_count": 16,
   "id": "2e723051-b5bf-4fc6-b7d3-0e04b4e0bb90",
   "metadata": {},
   "outputs": [
    {
     "data": {
      "text/plain": [
       "70"
      ]
     },
     "execution_count": 16,
     "metadata": {},
     "output_type": "execute_result"
    }
   ],
   "source": [
    "b"
   ]
  },
  {
   "cell_type": "code",
   "execution_count": null,
   "id": "e18596a7-5692-4f58-bfe1-78c6137e98a6",
   "metadata": {},
   "outputs": [],
   "source": [
    "# python variable name cannot start with a number\n",
    "3star = \"hello\""
   ]
  },
  {
   "cell_type": "code",
   "execution_count": null,
   "id": "efc7fcb9-6f25-414d-b34d-05ad46a85559",
   "metadata": {},
   "outputs": [],
   "source": [
    "#A python variable name cannot contain hyphen(-) \n",
    "my-var = 5"
   ]
  },
  {
   "cell_type": "code",
   "execution_count": 19,
   "id": "d8a3000b-011e-4dfd-ba1b-516d6c199403",
   "metadata": {},
   "outputs": [
    {
     "data": {
      "text/plain": [
       "5"
      ]
     },
     "execution_count": 19,
     "metadata": {},
     "output_type": "execute_result"
    }
   ],
   "source": [
    "my_var = 5\n",
    "my_var"
   ]
  },
  {
   "cell_type": "code",
   "execution_count": 21,
   "id": "719b0d72-eb2d-4cc4-8628-fb96f3bc0e98",
   "metadata": {},
   "outputs": [],
   "source": [
    "x = 5\n",
    "y = 10"
   ]
  },
  {
   "cell_type": "code",
   "execution_count": 22,
   "id": "82948723-e8df-49d1-ae94-7856f0e5ef7c",
   "metadata": {},
   "outputs": [
    {
     "data": {
      "text/plain": [
       "5"
      ]
     },
     "execution_count": 22,
     "metadata": {},
     "output_type": "execute_result"
    }
   ],
   "source": [
    "x"
   ]
  },
  {
   "cell_type": "code",
   "execution_count": 23,
   "id": "e0bdf239-60c2-41b4-8012-f73992bb81a4",
   "metadata": {},
   "outputs": [
    {
     "data": {
      "text/plain": [
       "10"
      ]
     },
     "execution_count": 23,
     "metadata": {},
     "output_type": "execute_result"
    }
   ],
   "source": [
    "y"
   ]
  },
  {
   "cell_type": "code",
   "execution_count": 24,
   "id": "2fa73edf-ab56-4f38-a0f3-719aa083e542",
   "metadata": {},
   "outputs": [],
   "source": [
    "x, y = 5, 10"
   ]
  },
  {
   "cell_type": "code",
   "execution_count": 26,
   "id": "e94ad9eb-12b9-43f1-97d1-f601a6c4d4d3",
   "metadata": {},
   "outputs": [
    {
     "name": "stdout",
     "output_type": "stream",
     "text": [
      "5 10\n"
     ]
    }
   ],
   "source": [
    "print(x, y)"
   ]
  },
  {
   "cell_type": "code",
   "execution_count": 29,
   "id": "93d47729-7123-4f45-90da-7d89ca6e743c",
   "metadata": {},
   "outputs": [],
   "source": [
    "x = 10"
   ]
  },
  {
   "cell_type": "code",
   "execution_count": 30,
   "id": "000a44de-787d-48ec-8f21-f517de3879ea",
   "metadata": {},
   "outputs": [
    {
     "data": {
      "text/plain": [
       "10"
      ]
     },
     "execution_count": 30,
     "metadata": {},
     "output_type": "execute_result"
    }
   ],
   "source": [
    "x"
   ]
  },
  {
   "cell_type": "code",
   "execution_count": 31,
   "id": "b513d288-7962-435d-9dec-ff162488d115",
   "metadata": {},
   "outputs": [],
   "source": [
    "x = 7"
   ]
  },
  {
   "cell_type": "code",
   "execution_count": 32,
   "id": "57b6eed8-6216-4061-9ca7-86a51b8de35f",
   "metadata": {},
   "outputs": [
    {
     "data": {
      "text/plain": [
       "7"
      ]
     },
     "execution_count": 32,
     "metadata": {},
     "output_type": "execute_result"
    }
   ],
   "source": [
    "x"
   ]
  },
  {
   "cell_type": "markdown",
   "id": "538bec97-3a73-4704-9493-2a8bf269cf21",
   "metadata": {},
   "source": [
    "#### Data Types"
   ]
  },
  {
   "cell_type": "markdown",
   "id": "902dcee7-dc06-4a57-b13a-8e55351a2714",
   "metadata": {},
   "source": [
    "#### INTERGER"
   ]
  },
  {
   "cell_type": "code",
   "execution_count": 35,
   "id": "194ea62d-85ba-4f6f-b2d3-513d3ab7c0be",
   "metadata": {},
   "outputs": [],
   "source": [
    "x = 10"
   ]
  },
  {
   "cell_type": "code",
   "execution_count": 37,
   "id": "4bb78f5c-e184-449b-bb14-b5493bdd20fe",
   "metadata": {},
   "outputs": [
    {
     "data": {
      "text/plain": [
       "int"
      ]
     },
     "execution_count": 37,
     "metadata": {},
     "output_type": "execute_result"
    }
   ],
   "source": [
    "# any number or figure that doesn't contain a decimal is an integer \n",
    "type(x)"
   ]
  },
  {
   "cell_type": "code",
   "execution_count": 38,
   "id": "1c81bd0e-2772-43c9-a600-b8c8337021f8",
   "metadata": {},
   "outputs": [
    {
     "data": {
      "text/plain": [
       "int"
      ]
     },
     "execution_count": 38,
     "metadata": {},
     "output_type": "execute_result"
    }
   ],
   "source": [
    "type(20)"
   ]
  },
  {
   "cell_type": "markdown",
   "id": "ff490a48-5591-43e1-8b71-6ff75be827f5",
   "metadata": {},
   "source": [
    "#### FLOAT"
   ]
  },
  {
   "cell_type": "code",
   "execution_count": 39,
   "id": "193cfe87-2220-448b-b7c9-093856e122ea",
   "metadata": {},
   "outputs": [],
   "source": [
    "# Float\n",
    "y = 10.5"
   ]
  },
  {
   "cell_type": "code",
   "execution_count": 41,
   "id": "de2588bb-0ad5-4664-83b2-c469c9febf9b",
   "metadata": {},
   "outputs": [
    {
     "data": {
      "text/plain": [
       "float"
      ]
     },
     "execution_count": 41,
     "metadata": {},
     "output_type": "execute_result"
    }
   ],
   "source": [
    "type(y)"
   ]
  },
  {
   "cell_type": "code",
   "execution_count": 42,
   "id": "bffcfb5a-3fb9-438d-bf82-3f7cfcb894d4",
   "metadata": {},
   "outputs": [
    {
     "data": {
      "text/plain": [
       "float"
      ]
     },
     "execution_count": 42,
     "metadata": {},
     "output_type": "execute_result"
    }
   ],
   "source": [
    "type(15.1)"
   ]
  },
  {
   "cell_type": "markdown",
   "id": "8de03c9f-5490-4e6f-b13d-fe7c4d3bce82",
   "metadata": {},
   "source": [
    "#### STRING"
   ]
  },
  {
   "cell_type": "code",
   "execution_count": 43,
   "id": "9acad96b-948c-4811-b36e-5625a0cea9fa",
   "metadata": {},
   "outputs": [],
   "source": [
    "# string\n",
    "myString = \"Hello world\""
   ]
  },
  {
   "cell_type": "code",
   "execution_count": 44,
   "id": "06a1dd2e-b856-4b40-afbe-aa5b7f78d55d",
   "metadata": {},
   "outputs": [
    {
     "data": {
      "text/plain": [
       "str"
      ]
     },
     "execution_count": 44,
     "metadata": {},
     "output_type": "execute_result"
    }
   ],
   "source": [
    "type(myString)"
   ]
  },
  {
   "cell_type": "code",
   "execution_count": 45,
   "id": "bbf8c30f-4b57-4ff4-bedd-e304e49307c8",
   "metadata": {},
   "outputs": [
    {
     "data": {
      "text/plain": [
       "str"
      ]
     },
     "execution_count": 45,
     "metadata": {},
     "output_type": "execute_result"
    }
   ],
   "source": [
    "type(\"I love real madrid 2005\")"
   ]
  },
  {
   "cell_type": "code",
   "execution_count": 46,
   "id": "25a11708-2a9a-4c0f-b8ef-fdb40cfec497",
   "metadata": {},
   "outputs": [],
   "source": [
    "# you can,t use quotation mark for numbers \n",
    "b = \"10\""
   ]
  },
  {
   "cell_type": "code",
   "execution_count": 47,
   "id": "95a3b694-3b5c-445d-ab69-eac5a99844a3",
   "metadata": {},
   "outputs": [
    {
     "data": {
      "text/plain": [
       "str"
      ]
     },
     "execution_count": 47,
     "metadata": {},
     "output_type": "execute_result"
    }
   ],
   "source": [
    "type(b)"
   ]
  },
  {
   "cell_type": "markdown",
   "id": "24260f24-cfa0-4fe1-90ca-27543a6d31c7",
   "metadata": {},
   "source": [
    "#### LIST"
   ]
  },
  {
   "cell_type": "code",
   "execution_count": 48,
   "id": "7cfed071-d631-4b0e-b704-1c5bfc6927de",
   "metadata": {},
   "outputs": [],
   "source": [
    "# List \n",
    "myList = [1, 3, 5, 10]"
   ]
  },
  {
   "cell_type": "code",
   "execution_count": 50,
   "id": "f31f7c46-c34a-4f3b-9d9c-3b9b00c0c39b",
   "metadata": {},
   "outputs": [
    {
     "data": {
      "text/plain": [
       "list"
      ]
     },
     "execution_count": 50,
     "metadata": {},
     "output_type": "execute_result"
    }
   ],
   "source": [
    "type(myList)"
   ]
  },
  {
   "cell_type": "code",
   "execution_count": 51,
   "id": "3c94da1f-194a-48f9-af69-5d9e98564516",
   "metadata": {},
   "outputs": [],
   "source": [
    "myListTwo = [12, \"20\", 5, 10]"
   ]
  },
  {
   "cell_type": "code",
   "execution_count": 52,
   "id": "a9763839-c317-4768-8383-804e7ff630f3",
   "metadata": {},
   "outputs": [
    {
     "data": {
      "text/plain": [
       "list"
      ]
     },
     "execution_count": 52,
     "metadata": {},
     "output_type": "execute_result"
    }
   ],
   "source": [
    "type(myListTwo)"
   ]
  },
  {
   "cell_type": "markdown",
   "id": "2f55dc8a-a940-46df-b5d8-95b88614b3a3",
   "metadata": {},
   "source": [
    "#### TUPLE"
   ]
  },
  {
   "cell_type": "code",
   "execution_count": 53,
   "id": "2c4c49c1-96c3-4426-b741-8a65fe086363",
   "metadata": {},
   "outputs": [],
   "source": [
    "# Tuple\n",
    "myTuple = (2, 3.2, \"five\")"
   ]
  },
  {
   "cell_type": "code",
   "execution_count": 54,
   "id": "f75186c7-2bfa-46c0-a05d-2db4e9a80497",
   "metadata": {},
   "outputs": [
    {
     "name": "stdout",
     "output_type": "stream",
     "text": [
      "(2, 3.2, 'five')\n"
     ]
    }
   ],
   "source": [
    "print(myTuple)"
   ]
  },
  {
   "cell_type": "code",
   "execution_count": 58,
   "id": "0c436803-4513-4830-9978-af509c89bdce",
   "metadata": {},
   "outputs": [
    {
     "data": {
      "text/plain": [
       "tuple"
      ]
     },
     "execution_count": 58,
     "metadata": {},
     "output_type": "execute_result"
    }
   ],
   "source": [
    "type((1, 3, 44, 50))"
   ]
  },
  {
   "cell_type": "code",
   "execution_count": 59,
   "id": "792ab1dc-19c4-4353-a711-7b9698c591b9",
   "metadata": {},
   "outputs": [
    {
     "data": {
      "text/plain": [
       "list"
      ]
     },
     "execution_count": 59,
     "metadata": {},
     "output_type": "execute_result"
    }
   ],
   "source": [
    "type([\"Apple\", \"Banana\", \"Orange\"])"
   ]
  },
  {
   "cell_type": "markdown",
   "id": "7d9e53b0-dd49-4dbe-9410-387a795ac7f0",
   "metadata": {},
   "source": [
    "#### DICTIONARY"
   ]
  },
  {
   "cell_type": "code",
   "execution_count": 61,
   "id": "665573b2-ca8e-4907-af2d-bd2ba2cee92d",
   "metadata": {},
   "outputs": [
    {
     "data": {
      "text/plain": [
       "{'name': 'John PK', 'Password': 'john123'}"
      ]
     },
     "execution_count": 61,
     "metadata": {},
     "output_type": "execute_result"
    }
   ],
   "source": [
    "# Dictionary\n",
    "login = {\"name\":\"John PK\", \"Password\" : \"john123\"}\n",
    "login"
   ]
  },
  {
   "cell_type": "code",
   "execution_count": 63,
   "id": "e1dc7c23-15f7-493b-b6cd-8907aa157ca9",
   "metadata": {},
   "outputs": [
    {
     "data": {
      "text/plain": [
       "dict"
      ]
     },
     "execution_count": 63,
     "metadata": {},
     "output_type": "execute_result"
    }
   ],
   "source": [
    "type(login)"
   ]
  },
  {
   "cell_type": "code",
   "execution_count": 64,
   "id": "cb593f17-94bf-4a95-9e75-cba80a7bebeb",
   "metadata": {},
   "outputs": [],
   "source": [
    "car = {\"name\" : \"Lexus\", \"brand\" : \"E350\", \"color\" : [\"black\", \"white\"]}"
   ]
  },
  {
   "cell_type": "code",
   "execution_count": 65,
   "id": "5f6c90b1-0515-40ee-a34c-6cbb792d5a3c",
   "metadata": {},
   "outputs": [
    {
     "data": {
      "text/plain": [
       "{'name': 'Lexus', 'brand': 'E350', 'color': ['black', 'white']}"
      ]
     },
     "execution_count": 65,
     "metadata": {},
     "output_type": "execute_result"
    }
   ],
   "source": [
    "car"
   ]
  },
  {
   "cell_type": "code",
   "execution_count": 66,
   "id": "2dccf7c0-d718-4071-b7d6-602f14274594",
   "metadata": {},
   "outputs": [
    {
     "data": {
      "text/plain": [
       "dict"
      ]
     },
     "execution_count": 66,
     "metadata": {},
     "output_type": "execute_result"
    }
   ],
   "source": [
    "type(car)"
   ]
  },
  {
   "cell_type": "markdown",
   "id": "e804d5df-2f7e-4a19-a062-4e9c8f26291c",
   "metadata": {},
   "source": [
    "#### BOOLEAN"
   ]
  },
  {
   "cell_type": "code",
   "execution_count": 70,
   "id": "d0024439-a5e5-4e78-87ca-f3d0cfa058c6",
   "metadata": {},
   "outputs": [
    {
     "data": {
      "text/plain": [
       "True"
      ]
     },
     "execution_count": 70,
     "metadata": {},
     "output_type": "execute_result"
    }
   ],
   "source": [
    "# Boolean\n",
    "x = 2<5\n",
    "x"
   ]
  },
  {
   "cell_type": "code",
   "execution_count": 69,
   "id": "bbb55f61-9222-4f4c-ad6f-8808f3ecc8f9",
   "metadata": {},
   "outputs": [
    {
     "name": "stdout",
     "output_type": "stream",
     "text": [
      "True\n"
     ]
    }
   ],
   "source": [
    "print(x)"
   ]
  },
  {
   "cell_type": "code",
   "execution_count": 71,
   "id": "72369f94-5323-4d53-aa3d-4c32e2f6a2ac",
   "metadata": {},
   "outputs": [
    {
     "data": {
      "text/plain": [
       "False"
      ]
     },
     "execution_count": 71,
     "metadata": {},
     "output_type": "execute_result"
    }
   ],
   "source": [
    "y = 10>21\n",
    "y"
   ]
  },
  {
   "cell_type": "code",
   "execution_count": 72,
   "id": "478fdbe0-541b-4e71-b135-9222c6fcddda",
   "metadata": {},
   "outputs": [
    {
     "data": {
      "text/plain": [
       "bool"
      ]
     },
     "execution_count": 72,
     "metadata": {},
     "output_type": "execute_result"
    }
   ],
   "source": [
    "type(10>21)"
   ]
  },
  {
   "cell_type": "code",
   "execution_count": 73,
   "id": "97f2adc0-4c4f-496b-aa20-69608b65f14d",
   "metadata": {},
   "outputs": [
    {
     "data": {
      "text/plain": [
       "bool"
      ]
     },
     "execution_count": 73,
     "metadata": {},
     "output_type": "execute_result"
    }
   ],
   "source": [
    "type(y)"
   ]
  },
  {
   "cell_type": "markdown",
   "id": "988be9c7-d652-49bf-9b78-1db41a5363b9",
   "metadata": {},
   "source": [
    "#### CASTING"
   ]
  },
  {
   "cell_type": "code",
   "execution_count": 74,
   "id": "62652622-0fa8-4a90-a46e-f146cb328ea8",
   "metadata": {},
   "outputs": [],
   "source": [
    "a = 50"
   ]
  },
  {
   "cell_type": "code",
   "execution_count": 75,
   "id": "edb5da09-3a00-4ab8-a403-d19148fb645a",
   "metadata": {},
   "outputs": [
    {
     "data": {
      "text/plain": [
       "50"
      ]
     },
     "execution_count": 75,
     "metadata": {},
     "output_type": "execute_result"
    }
   ],
   "source": [
    "a"
   ]
  },
  {
   "cell_type": "code",
   "execution_count": 76,
   "id": "f7787b49-3f8b-4364-b26b-6af8c6d1203d",
   "metadata": {},
   "outputs": [
    {
     "data": {
      "text/plain": [
       "'50'"
      ]
     },
     "execution_count": 76,
     "metadata": {},
     "output_type": "execute_result"
    }
   ],
   "source": [
    "# Convert integer to string\n",
    "str(a)"
   ]
  },
  {
   "cell_type": "code",
   "execution_count": 80,
   "id": "df31d55b-01a4-4e81-8f01-25f1c7b059fc",
   "metadata": {},
   "outputs": [],
   "source": [
    "x = 24"
   ]
  },
  {
   "cell_type": "code",
   "execution_count": 83,
   "id": "93592412-532b-4d69-bb8a-3c7606a09bca",
   "metadata": {},
   "outputs": [],
   "source": [
    "# Convert integer to float\n",
    "y = float(x)"
   ]
  },
  {
   "cell_type": "code",
   "execution_count": 84,
   "id": "a91b1319-1709-4e90-9ce4-c60c9d3d03d2",
   "metadata": {},
   "outputs": [
    {
     "data": {
      "text/plain": [
       "24.0"
      ]
     },
     "execution_count": 84,
     "metadata": {},
     "output_type": "execute_result"
    }
   ],
   "source": [
    "y"
   ]
  },
  {
   "cell_type": "code",
   "execution_count": 102,
   "id": "a858ab6c-1808-4389-9754-500db0a27723",
   "metadata": {},
   "outputs": [],
   "source": [
    "a = \"hello\""
   ]
  },
  {
   "cell_type": "code",
   "execution_count": 103,
   "id": "0c4959b5-8341-4d09-b5ea-574abafe9533",
   "metadata": {},
   "outputs": [],
   "source": [
    "# you can't convert a text into an integer\n",
    "int(a)"
   ]
  },
  {
   "cell_type": "markdown",
   "id": "8425801c-9a55-4bd6-8f96-379ca0f9d3ee",
   "metadata": {},
   "source": [
    "# Arithmetic Operators\n",
    "* Addition\n",
    "* Substraction\n",
    "* Multiplication\n",
    "* Division\n",
    "* Exponentation/Exponential\n",
    "* Modulus"
   ]
  },
  {
   "cell_type": "markdown",
   "id": "bc18f7c4-3250-40be-af83-d11ee3c97509",
   "metadata": {},
   "source": [
    "### ADDITION"
   ]
  },
  {
   "cell_type": "code",
   "execution_count": 118,
   "id": "8ad5521b-93d1-4792-b231-55ca9cd03c7e",
   "metadata": {},
   "outputs": [],
   "source": [
    "x = 3\n",
    "y = 12"
   ]
  },
  {
   "cell_type": "code",
   "execution_count": 119,
   "id": "9a95d925-ad61-4204-ab2a-493143d47349",
   "metadata": {},
   "outputs": [
    {
     "data": {
      "text/plain": [
       "15"
      ]
     },
     "execution_count": 119,
     "metadata": {},
     "output_type": "execute_result"
    }
   ],
   "source": [
    "x + y"
   ]
  },
  {
   "cell_type": "code",
   "execution_count": 120,
   "id": "26f48188-10d4-48b6-b238-e5d936c2ef1a",
   "metadata": {},
   "outputs": [
    {
     "data": {
      "text/plain": [
       "13"
      ]
     },
     "execution_count": 120,
     "metadata": {},
     "output_type": "execute_result"
    }
   ],
   "source": [
    "x + y - 2"
   ]
  },
  {
   "cell_type": "markdown",
   "id": "6fe529c6-a86a-4a32-a027-fcb8a33e3c98",
   "metadata": {},
   "source": [
    "### SUBSTACTION"
   ]
  },
  {
   "cell_type": "code",
   "execution_count": 114,
   "id": "30765ad3-0807-43b5-afa0-00466f0b5ea1",
   "metadata": {},
   "outputs": [],
   "source": [
    "a = 4\n",
    "b = 2"
   ]
  },
  {
   "cell_type": "code",
   "execution_count": 116,
   "id": "b922255b-d801-4f63-bad1-57f4753db766",
   "metadata": {},
   "outputs": [
    {
     "data": {
      "text/plain": [
       "2"
      ]
     },
     "execution_count": 116,
     "metadata": {},
     "output_type": "execute_result"
    }
   ],
   "source": [
    "a - b"
   ]
  },
  {
   "cell_type": "code",
   "execution_count": 117,
   "id": "4414f2fc-3b1c-48d7-9621-667cb008d220",
   "metadata": {},
   "outputs": [
    {
     "data": {
      "text/plain": [
       "-2"
      ]
     },
     "execution_count": 117,
     "metadata": {},
     "output_type": "execute_result"
    }
   ],
   "source": [
    "b - a"
   ]
  },
  {
   "cell_type": "markdown",
   "id": "46e06400-740d-45cf-a986-50197bce316b",
   "metadata": {},
   "source": [
    "### DIVISION"
   ]
  },
  {
   "cell_type": "code",
   "execution_count": 121,
   "id": "43d5520b-5c35-4c7b-b373-900f8720c501",
   "metadata": {},
   "outputs": [],
   "source": [
    "c = 45\n",
    "a = 5"
   ]
  },
  {
   "cell_type": "code",
   "execution_count": 122,
   "id": "0e587884-b697-491d-b4ea-1590a2593dcc",
   "metadata": {},
   "outputs": [
    {
     "data": {
      "text/plain": [
       "9.0"
      ]
     },
     "execution_count": 122,
     "metadata": {},
     "output_type": "execute_result"
    }
   ],
   "source": [
    "c/a"
   ]
  },
  {
   "cell_type": "code",
   "execution_count": 123,
   "id": "3e52727e-dcc3-451e-9eba-345fde692c7e",
   "metadata": {},
   "outputs": [
    {
     "data": {
      "text/plain": [
       "5.0"
      ]
     },
     "execution_count": 123,
     "metadata": {},
     "output_type": "execute_result"
    }
   ],
   "source": [
    "20/4"
   ]
  },
  {
   "cell_type": "markdown",
   "id": "cf8455ab-3607-4377-b9ed-45be24c860ac",
   "metadata": {},
   "source": [
    "### MULTIPLICATION"
   ]
  },
  {
   "cell_type": "code",
   "execution_count": 124,
   "id": "bde65329-10fc-4f2e-b3a8-fd7eb15c1857",
   "metadata": {},
   "outputs": [],
   "source": [
    "a = 10\n",
    "b = 2"
   ]
  },
  {
   "cell_type": "code",
   "execution_count": 125,
   "id": "8f8aae68-9465-43e7-bdd0-9e7ecd154f39",
   "metadata": {},
   "outputs": [
    {
     "data": {
      "text/plain": [
       "20"
      ]
     },
     "execution_count": 125,
     "metadata": {},
     "output_type": "execute_result"
    }
   ],
   "source": [
    "a*b"
   ]
  },
  {
   "cell_type": "code",
   "execution_count": 126,
   "id": "95dbdad1-a06c-42fe-8ceb-039b1f949b92",
   "metadata": {},
   "outputs": [
    {
     "data": {
      "text/plain": [
       "20"
      ]
     },
     "execution_count": 126,
     "metadata": {},
     "output_type": "execute_result"
    }
   ],
   "source": [
    "b*a"
   ]
  },
  {
   "cell_type": "markdown",
   "id": "e969d808-d4a8-4a35-9d3a-6eb18e379f0b",
   "metadata": {},
   "source": [
    "### EXPONENTIAL/EXPONENTATION"
   ]
  },
  {
   "cell_type": "code",
   "execution_count": 128,
   "id": "391a935d-bcae-4beb-8909-0281ecde6250",
   "metadata": {},
   "outputs": [],
   "source": [
    "b = 5\n",
    "a = 2"
   ]
  },
  {
   "cell_type": "code",
   "execution_count": 129,
   "id": "533d7eea-9d72-4bed-b10f-7e9acf4667a7",
   "metadata": {},
   "outputs": [
    {
     "data": {
      "text/plain": [
       "25"
      ]
     },
     "execution_count": 129,
     "metadata": {},
     "output_type": "execute_result"
    }
   ],
   "source": [
    "b**a"
   ]
  },
  {
   "cell_type": "markdown",
   "id": "d9a5f27d-727c-4c37-9cee-67abbae4744a",
   "metadata": {},
   "source": [
    "### MODULUS"
   ]
  },
  {
   "cell_type": "code",
   "execution_count": 130,
   "id": "497199df-f450-43cb-99a1-7e538cbf4ed0",
   "metadata": {},
   "outputs": [],
   "source": [
    "a = 10\n",
    "b = 3"
   ]
  },
  {
   "cell_type": "code",
   "execution_count": 131,
   "id": "61fc2cdf-6f09-4de7-bdab-e3085a4ecd8f",
   "metadata": {},
   "outputs": [
    {
     "data": {
      "text/plain": [
       "1"
      ]
     },
     "execution_count": 131,
     "metadata": {},
     "output_type": "execute_result"
    }
   ],
   "source": [
    "a%b"
   ]
  },
  {
   "cell_type": "code",
   "execution_count": 132,
   "id": "da9d0958-e176-46a9-bad9-0220ba947b79",
   "metadata": {},
   "outputs": [
    {
     "data": {
      "text/plain": [
       "0"
      ]
     },
     "execution_count": 132,
     "metadata": {},
     "output_type": "execute_result"
    }
   ],
   "source": [
    "12%4"
   ]
  },
  {
   "cell_type": "markdown",
   "id": "39528c85-f884-4305-b78f-04cb5426982b",
   "metadata": {},
   "source": [
    "#### ASSIGNMENT OPERATORS"
   ]
  },
  {
   "cell_type": "code",
   "execution_count": 133,
   "id": "6eee8e6e-1eaf-42f7-9c9d-83f6d3f262a7",
   "metadata": {},
   "outputs": [],
   "source": [
    "x = 5"
   ]
  },
  {
   "cell_type": "code",
   "execution_count": 134,
   "id": "9290bb8f-33f3-4c60-b013-12107b0b1f8a",
   "metadata": {},
   "outputs": [
    {
     "data": {
      "text/plain": [
       "5"
      ]
     },
     "execution_count": 134,
     "metadata": {},
     "output_type": "execute_result"
    }
   ],
   "source": [
    "x"
   ]
  },
  {
   "cell_type": "code",
   "execution_count": 135,
   "id": "bd582a40-b02e-4d4e-81ad-d8c8fa074400",
   "metadata": {},
   "outputs": [],
   "source": [
    "x = x + 5"
   ]
  },
  {
   "cell_type": "code",
   "execution_count": 136,
   "id": "2dabceb1-7225-4211-9750-d3e2e5e1bf0f",
   "metadata": {},
   "outputs": [
    {
     "data": {
      "text/plain": [
       "10"
      ]
     },
     "execution_count": 136,
     "metadata": {},
     "output_type": "execute_result"
    }
   ],
   "source": [
    "x"
   ]
  },
  {
   "cell_type": "code",
   "execution_count": 141,
   "id": "ed38252d-dccf-48dd-acf1-86c886f57c4b",
   "metadata": {},
   "outputs": [],
   "source": [
    "y = 12"
   ]
  },
  {
   "cell_type": "code",
   "execution_count": 145,
   "id": "5ad00c13-5112-4e8e-888a-713805ae8f78",
   "metadata": {},
   "outputs": [
    {
     "data": {
      "text/plain": [
       "32"
      ]
     },
     "execution_count": 145,
     "metadata": {},
     "output_type": "execute_result"
    }
   ],
   "source": [
    "# y = y + 10 is same as y +=10c\n",
    "y +=10\n",
    "y"
   ]
  },
  {
   "cell_type": "code",
   "execution_count": 146,
   "id": "f5a6bfbb-6563-46da-9cac-29eec3f77b82",
   "metadata": {},
   "outputs": [],
   "source": [
    "m = 2"
   ]
  },
  {
   "cell_type": "code",
   "execution_count": 147,
   "id": "38799e68-ea68-4975-b772-6f188766d563",
   "metadata": {},
   "outputs": [
    {
     "data": {
      "text/plain": [
       "27"
      ]
     },
     "execution_count": 147,
     "metadata": {},
     "output_type": "execute_result"
    }
   ],
   "source": [
    "# m = m + 7\n",
    "m +=7\n",
    "m"
   ]
  },
  {
   "cell_type": "code",
   "execution_count": 148,
   "id": "d889bd36-f7c0-43c7-8d3b-6d640378b483",
   "metadata": {},
   "outputs": [],
   "source": [
    "d = 25"
   ]
  },
  {
   "cell_type": "code",
   "execution_count": 149,
   "id": "072924f0-2de3-4803-adbc-e8a874741fe5",
   "metadata": {},
   "outputs": [],
   "source": [
    "# d = d - 5\n",
    "d -=5"
   ]
  },
  {
   "cell_type": "code",
   "execution_count": 150,
   "id": "ef15e92b-eb6b-4b62-9feb-a5c749f59413",
   "metadata": {},
   "outputs": [
    {
     "data": {
      "text/plain": [
       "20"
      ]
     },
     "execution_count": 150,
     "metadata": {},
     "output_type": "execute_result"
    }
   ],
   "source": [
    "d"
   ]
  },
  {
   "cell_type": "code",
   "execution_count": 154,
   "id": "cf1d85ae-82a2-4cbf-90a4-ecb51b656159",
   "metadata": {},
   "outputs": [],
   "source": [
    "c = 100"
   ]
  },
  {
   "cell_type": "code",
   "execution_count": 155,
   "id": "69097a55-8fda-49ab-a06a-1030043c6df6",
   "metadata": {},
   "outputs": [
    {
     "data": {
      "text/plain": [
       "25.0"
      ]
     },
     "execution_count": 155,
     "metadata": {},
     "output_type": "execute_result"
    }
   ],
   "source": [
    "# c= c / 4\n",
    "c /=4\n",
    "c"
   ]
  },
  {
   "cell_type": "code",
   "execution_count": 157,
   "id": "4bc23f44-e0d3-485e-bc55-77e6feaa61d6",
   "metadata": {},
   "outputs": [],
   "source": [
    "multiply = 15\n",
    "a = 2"
   ]
  },
  {
   "cell_type": "code",
   "execution_count": 158,
   "id": "7ad85263-18c3-4b30-a3fd-c04cd5a93163",
   "metadata": {},
   "outputs": [],
   "source": [
    "# multiply = multiply * a\n",
    "multiply *=a"
   ]
  },
  {
   "cell_type": "code",
   "execution_count": 159,
   "id": "a2091b58-3225-4adf-a2be-b72d4989fc01",
   "metadata": {},
   "outputs": [
    {
     "data": {
      "text/plain": [
       "30"
      ]
     },
     "execution_count": 159,
     "metadata": {},
     "output_type": "execute_result"
    }
   ],
   "source": [
    "multiply"
   ]
  },
  {
   "cell_type": "code",
   "execution_count": 160,
   "id": "9ae60ce4-6af3-4117-8100-97e9b8f8cd47",
   "metadata": {},
   "outputs": [],
   "source": [
    "x = 60"
   ]
  },
  {
   "cell_type": "code",
   "execution_count": 161,
   "id": "2f5222bd-28ea-432c-ad89-7fd8cc27362b",
   "metadata": {},
   "outputs": [
    {
     "data": {
      "text/plain": [
       "True"
      ]
     },
     "execution_count": 161,
     "metadata": {},
     "output_type": "execute_result"
    }
   ],
   "source": [
    "# Not equals to\n",
    "x !=20"
   ]
  },
  {
   "cell_type": "code",
   "execution_count": 162,
   "id": "2853baf8-10cc-4dfd-bbdf-97d5b32ad3d7",
   "metadata": {},
   "outputs": [
    {
     "data": {
      "text/plain": [
       "True"
      ]
     },
     "execution_count": 162,
     "metadata": {},
     "output_type": "execute_result"
    }
   ],
   "source": [
    "20<30"
   ]
  },
  {
   "cell_type": "code",
   "execution_count": 1,
   "id": "ff258ece-057d-46c1-b8d2-68f84361e59f",
   "metadata": {},
   "outputs": [],
   "source": [
    "a = 15\n",
    "b = 10"
   ]
  },
  {
   "cell_type": "code",
   "execution_count": 2,
   "id": "a6fd2a64-eef9-44a0-b31c-524336043df8",
   "metadata": {},
   "outputs": [
    {
     "data": {
      "text/plain": [
       "False"
      ]
     },
     "execution_count": 2,
     "metadata": {},
     "output_type": "execute_result"
    }
   ],
   "source": [
    "b>a"
   ]
  },
  {
   "cell_type": "code",
   "execution_count": 3,
   "id": "eb2621f9-9794-4a2a-99c6-96c680f8b995",
   "metadata": {},
   "outputs": [
    {
     "data": {
      "text/plain": [
       "False"
      ]
     },
     "execution_count": 3,
     "metadata": {},
     "output_type": "execute_result"
    }
   ],
   "source": [
    "a<b"
   ]
  },
  {
   "cell_type": "code",
   "execution_count": 4,
   "id": "f1a395fb-8944-4f42-adcf-5e8105306e69",
   "metadata": {},
   "outputs": [
    {
     "data": {
      "text/plain": [
       "False"
      ]
     },
     "execution_count": 4,
     "metadata": {},
     "output_type": "execute_result"
    }
   ],
   "source": [
    "a < 7 or b > 10"
   ]
  },
  {
   "cell_type": "code",
   "execution_count": 5,
   "id": "766e06d0-c77a-4191-a3b4-143ad0069dcd",
   "metadata": {},
   "outputs": [
    {
     "data": {
      "text/plain": [
       "True"
      ]
     },
     "execution_count": 5,
     "metadata": {},
     "output_type": "execute_result"
    }
   ],
   "source": [
    "a > b or b < a"
   ]
  },
  {
   "cell_type": "code",
   "execution_count": 8,
   "id": "b3492384-02da-4594-87d7-aeb831e2c748",
   "metadata": {},
   "outputs": [
    {
     "data": {
      "text/plain": [
       "False"
      ]
     },
     "execution_count": 8,
     "metadata": {},
     "output_type": "execute_result"
    }
   ],
   "source": [
    "# a < 7 or b > 10\n",
    "a < 7 | b < 10"
   ]
  },
  {
   "cell_type": "code",
   "execution_count": 9,
   "id": "e5ecabb5-0506-463c-8a02-5f809a609ba0",
   "metadata": {},
   "outputs": [
    {
     "data": {
      "text/plain": [
       "True"
      ]
     },
     "execution_count": 9,
     "metadata": {},
     "output_type": "execute_result"
    }
   ],
   "source": [
    "# a > b and b < a\n",
    "a > b & b < a"
   ]
  },
  {
   "cell_type": "code",
   "execution_count": 10,
   "id": "a5f4587b-15a9-4ebd-afb8-7262900ad28d",
   "metadata": {},
   "outputs": [
    {
     "data": {
      "text/plain": [
       "True"
      ]
     },
     "execution_count": 10,
     "metadata": {},
     "output_type": "execute_result"
    }
   ],
   "source": [
    "not(a < 7)"
   ]
  },
  {
   "cell_type": "code",
   "execution_count": 11,
   "id": "d4922128-5ee4-424b-9094-5f15b0fc4bcf",
   "metadata": {},
   "outputs": [
    {
     "data": {
      "text/plain": [
       "False"
      ]
     },
     "execution_count": 11,
     "metadata": {},
     "output_type": "execute_result"
    }
   ],
   "source": [
    "not(20 > 15)"
   ]
  },
  {
   "cell_type": "code",
   "execution_count": 12,
   "id": "75d90174-74ec-462a-be31-b47dc1610a12",
   "metadata": {},
   "outputs": [],
   "source": [
    "c = 12\n",
    "b = 5"
   ]
  },
  {
   "cell_type": "code",
   "execution_count": 14,
   "id": "402fbfd7-0615-48e3-bd10-961491705c0c",
   "metadata": {},
   "outputs": [
    {
     "data": {
      "text/plain": [
       "False"
      ]
     },
     "execution_count": 14,
     "metadata": {},
     "output_type": "execute_result"
    }
   ],
   "source": [
    "# less than or equals to\n",
    "c <= b"
   ]
  },
  {
   "cell_type": "code",
   "execution_count": 15,
   "id": "a8dca3cb-cee8-4305-a522-d369503e43f8",
   "metadata": {},
   "outputs": [
    {
     "data": {
      "text/plain": [
       "False"
      ]
     },
     "execution_count": 15,
     "metadata": {},
     "output_type": "execute_result"
    }
   ],
   "source": [
    "# Greater than or equals to\n",
    "b >= a"
   ]
  },
  {
   "cell_type": "code",
   "execution_count": 17,
   "id": "b71c1f1a-1e5f-458d-a186-ee29f7e9b99e",
   "metadata": {},
   "outputs": [
    {
     "data": {
      "text/plain": [
       "True"
      ]
     },
     "execution_count": 17,
     "metadata": {},
     "output_type": "execute_result"
    }
   ],
   "source": [
    "24 < 2 and 5 > 5 or 70 <= 6 or 15 < 20 and 20 >= 20 or 34 <= 22 or 44 > 60 and 35 <= 70"
   ]
  },
  {
   "cell_type": "markdown",
   "id": "af05c642-411e-43ba-850f-97ee264dc9ab",
   "metadata": {},
   "source": [
    "### COLLECTING INPUT FROM USER"
   ]
  },
  {
   "cell_type": "code",
   "execution_count": 19,
   "id": "f4f1fb9c-bbb2-4145-a849-c6436eee0a46",
   "metadata": {},
   "outputs": [
    {
     "name": "stdin",
     "output_type": "stream",
     "text": [
      "Enter your name lizzy\n"
     ]
    },
    {
     "data": {
      "text/plain": [
       "'lizzy'"
      ]
     },
     "execution_count": 19,
     "metadata": {},
     "output_type": "execute_result"
    }
   ],
   "source": [
    "input(\"Enter your name\")\n"
   ]
  },
  {
   "cell_type": "code",
   "execution_count": 21,
   "id": "545a0ff5-e6bd-4645-8041-01fb84706528",
   "metadata": {},
   "outputs": [
    {
     "name": "stdin",
     "output_type": "stream",
     "text": [
      "First Number 5\n",
      "Second Number 12\n"
     ]
    }
   ],
   "source": [
    "firstNumber = input(\"First Number\")\n",
    "secondNumber = input(\"Second Number\")"
   ]
  },
  {
   "cell_type": "code",
   "execution_count": 24,
   "id": "a8150835-3990-4278-96c2-1765e641bd19",
   "metadata": {},
   "outputs": [
    {
     "name": "stdout",
     "output_type": "stream",
     "text": [
      "5\n",
      "12\n"
     ]
    }
   ],
   "source": [
    "print(firstNumber)\n",
    "print(secondNumber)"
   ]
  },
  {
   "cell_type": "code",
   "execution_count": 25,
   "id": "4e14fc4b-7db8-41f9-ad44-9d7c2df4bb0c",
   "metadata": {},
   "outputs": [
    {
     "data": {
      "text/plain": [
       "'5'"
      ]
     },
     "execution_count": 25,
     "metadata": {},
     "output_type": "execute_result"
    }
   ],
   "source": [
    "firstNumber"
   ]
  },
  {
   "cell_type": "code",
   "execution_count": 27,
   "id": "7e649d1d-ab2a-4c27-b086-08b40f39d079",
   "metadata": {},
   "outputs": [
    {
     "data": {
      "text/plain": [
       "'512'"
      ]
     },
     "execution_count": 27,
     "metadata": {},
     "output_type": "execute_result"
    }
   ],
   "source": [
    "add = firstNumber + secondNumber\n",
    "add"
   ]
  },
  {
   "cell_type": "code",
   "execution_count": 28,
   "id": "2bf5eaf9-62ca-4fd5-9d90-15ff9aed7d0d",
   "metadata": {},
   "outputs": [],
   "source": [
    "a = int(firstNumber)\n",
    "b = int(secondNumber)"
   ]
  },
  {
   "cell_type": "code",
   "execution_count": 29,
   "id": "e8109d27-29c2-4cb1-9b85-16808ff54565",
   "metadata": {},
   "outputs": [
    {
     "data": {
      "text/plain": [
       "5"
      ]
     },
     "execution_count": 29,
     "metadata": {},
     "output_type": "execute_result"
    }
   ],
   "source": [
    "a"
   ]
  },
  {
   "cell_type": "code",
   "execution_count": 30,
   "id": "3578c29e-831d-4e18-940b-3c10d3592248",
   "metadata": {},
   "outputs": [
    {
     "data": {
      "text/plain": [
       "12"
      ]
     },
     "execution_count": 30,
     "metadata": {},
     "output_type": "execute_result"
    }
   ],
   "source": [
    "b"
   ]
  },
  {
   "cell_type": "code",
   "execution_count": 31,
   "id": "72bd4b10-7d50-4ed2-bf9d-0b522abba2f4",
   "metadata": {},
   "outputs": [
    {
     "data": {
      "text/plain": [
       "17"
      ]
     },
     "execution_count": 31,
     "metadata": {},
     "output_type": "execute_result"
    }
   ],
   "source": [
    "a + b"
   ]
  },
  {
   "cell_type": "markdown",
   "id": "cf827b99-a55b-44da-bf75-d0f6a4d1cbd3",
   "metadata": {},
   "source": [
    "#### LIST"
   ]
  },
  {
   "cell_type": "code",
   "execution_count": 32,
   "id": "c605ca59-3e24-41d3-aac9-9b8204bfbe81",
   "metadata": {},
   "outputs": [
    {
     "data": {
      "text/plain": [
       "[10, 'Orange', 2.5, 'apple']"
      ]
     },
     "execution_count": 32,
     "metadata": {},
     "output_type": "execute_result"
    }
   ],
   "source": [
    "myList = [10, \"Orange\", 2.5, \"apple\"]\n",
    "myList"
   ]
  },
  {
   "cell_type": "code",
   "execution_count": 33,
   "id": "78d344ef-f1b3-41e3-9770-cbcb9bedd889",
   "metadata": {},
   "outputs": [
    {
     "data": {
      "text/plain": [
       "'Orange'"
      ]
     },
     "execution_count": 33,
     "metadata": {},
     "output_type": "execute_result"
    }
   ],
   "source": [
    "myList[1]"
   ]
  },
  {
   "cell_type": "code",
   "execution_count": 34,
   "id": "013f11f7-b19c-4f7a-b13e-c8d5f92133dd",
   "metadata": {},
   "outputs": [
    {
     "data": {
      "text/plain": [
       "10"
      ]
     },
     "execution_count": 34,
     "metadata": {},
     "output_type": "execute_result"
    }
   ],
   "source": [
    "myList[0]"
   ]
  },
  {
   "cell_type": "code",
   "execution_count": 35,
   "id": "8517cd3d-e882-40a3-bf46-93d5832265c7",
   "metadata": {},
   "outputs": [
    {
     "data": {
      "text/plain": [
       "'apple'"
      ]
     },
     "execution_count": 35,
     "metadata": {},
     "output_type": "execute_result"
    }
   ],
   "source": [
    "myList[3]"
   ]
  },
  {
   "cell_type": "code",
   "execution_count": 36,
   "id": "218f9622-1c76-4346-a4bb-4b77912a145c",
   "metadata": {},
   "outputs": [
    {
     "data": {
      "text/plain": [
       "'apple'"
      ]
     },
     "execution_count": 36,
     "metadata": {},
     "output_type": "execute_result"
    }
   ],
   "source": [
    "#Fetch the last item from the list\n",
    "myList[-1]"
   ]
  },
  {
   "cell_type": "code",
   "execution_count": 37,
   "id": "e5e468b3-a336-4e01-a4e7-ca99680a0290",
   "metadata": {},
   "outputs": [
    {
     "data": {
      "text/plain": [
       "2.5"
      ]
     },
     "execution_count": 37,
     "metadata": {},
     "output_type": "execute_result"
    }
   ],
   "source": [
    "#Fetch the second to the last item from the list\n",
    "myList[-2]"
   ]
  },
  {
   "cell_type": "code",
   "execution_count": 188,
   "id": "48099b1f-94e7-4282-9af4-d0ecdd6aa9e7",
   "metadata": {},
   "outputs": [
    {
     "data": {
      "text/plain": [
       "[2]"
      ]
     },
     "execution_count": 188,
     "metadata": {},
     "output_type": "execute_result"
    }
   ],
   "source": [
    "# selecting the first twonitems from the list\n",
    "myList[0 : 1]"
   ]
  },
  {
   "cell_type": "code",
   "execution_count": 39,
   "id": "09b53b16-30d6-463b-8390-54e21caea149",
   "metadata": {},
   "outputs": [
    {
     "data": {
      "text/plain": [
       "[10, 'Orange']"
      ]
     },
     "execution_count": 39,
     "metadata": {},
     "output_type": "execute_result"
    }
   ],
   "source": [
    "myList[0 : 2]"
   ]
  },
  {
   "cell_type": "code",
   "execution_count": 41,
   "id": "3110934c-910b-4920-93a6-0650e8a7ce01",
   "metadata": {},
   "outputs": [
    {
     "data": {
      "text/plain": [
       "[10, 'Orange', 2.5]"
      ]
     },
     "execution_count": 41,
     "metadata": {},
     "output_type": "execute_result"
    }
   ],
   "source": [
    "myList[0 : 3]"
   ]
  },
  {
   "cell_type": "code",
   "execution_count": 44,
   "id": "6e047adb-f77e-4cf8-a79e-218ff3682bd2",
   "metadata": {},
   "outputs": [
    {
     "name": "stdout",
     "output_type": "stream",
     "text": [
      "[10, 'Orange']\n",
      "[10, 'Orange', 2.5]\n",
      "[10, 'Orange', 2.5, 'apple']\n",
      "[10, 'Orange']\n"
     ]
    }
   ],
   "source": [
    "print(myList[:2])\n",
    "print(myList[:3])\n",
    "print(myList[:4])\n",
    "print(myList[:-2])  "
   ]
  },
  {
   "cell_type": "code",
   "execution_count": 45,
   "id": "c1d43945-624f-466e-a49d-95f8dc8f6728",
   "metadata": {},
   "outputs": [
    {
     "data": {
      "text/plain": [
       "[2.5, 'apple']"
      ]
     },
     "execution_count": 45,
     "metadata": {},
     "output_type": "execute_result"
    }
   ],
   "source": [
    "myList[2 : 4]"
   ]
  },
  {
   "cell_type": "code",
   "execution_count": 46,
   "id": "afd807c5-de30-4e22-ab5b-31764e338845",
   "metadata": {},
   "outputs": [
    {
     "data": {
      "text/plain": [
       "['Orange', 2.5, 'apple']"
      ]
     },
     "execution_count": 46,
     "metadata": {},
     "output_type": "execute_result"
    }
   ],
   "source": [
    "myList[1 : 4]"
   ]
  },
  {
   "cell_type": "code",
   "execution_count": 47,
   "id": "6ec6c888-503d-49c5-bb22-ccf0c00e5bde",
   "metadata": {},
   "outputs": [
    {
     "name": "stdout",
     "output_type": "stream",
     "text": [
      "[2.5, 'apple']\n"
     ]
    }
   ],
   "source": [
    "print(myList[2:])"
   ]
  },
  {
   "cell_type": "code",
   "execution_count": 48,
   "id": "6dd25e46-9281-4ca3-b810-cb364bc65f69",
   "metadata": {},
   "outputs": [
    {
     "data": {
      "text/plain": [
       "['Orange', 'Apple', 'Kiwi', 'Cherry', 'Pineapple']"
      ]
     },
     "execution_count": 48,
     "metadata": {},
     "output_type": "execute_result"
    }
   ],
   "source": [
    "myFruits = [\"Orange\", \"Apple\", \"Kiwi\", \"Cherry\", \"Pineapple\"]\n",
    "myFruits"
   ]
  },
  {
   "cell_type": "markdown",
   "id": "bcd902f0-aee6-4dc9-b622-36aae7da9677",
   "metadata": {},
   "source": [
    "#### APPEND METHOD\n",
    "# Append method to add item to an existing list\n",
    "# also meaning ADD by rows\n",
    "# MERGE - MEANS TO ADD BY COLUMN"
   ]
  },
  {
   "cell_type": "code",
   "execution_count": 49,
   "id": "6ebdb3ac-abfc-4f0c-b11e-6da54769dd96",
   "metadata": {},
   "outputs": [],
   "source": [
    "# Append method to add item to an existing list\n",
    "myFruits.append(\"Guava\")"
   ]
  },
  {
   "cell_type": "code",
   "execution_count": 50,
   "id": "f7099915-b3c3-4864-9424-ce5461aa2a06",
   "metadata": {},
   "outputs": [
    {
     "data": {
      "text/plain": [
       "['Orange', 'Apple', 'Kiwi', 'Cherry', 'Pineapple', 'Guava']"
      ]
     },
     "execution_count": 50,
     "metadata": {},
     "output_type": "execute_result"
    }
   ],
   "source": [
    "myFruits"
   ]
  },
  {
   "cell_type": "code",
   "execution_count": 51,
   "id": "9b198248-47b9-47e2-ae50-abca4b3c3b3e",
   "metadata": {},
   "outputs": [],
   "source": [
    "myFruits[0] = \"carrot\""
   ]
  },
  {
   "cell_type": "code",
   "execution_count": 52,
   "id": "285f51c1-f82a-4dcd-8178-89746ad4a7bf",
   "metadata": {},
   "outputs": [
    {
     "data": {
      "text/plain": [
       "['carrot', 'Apple', 'Kiwi', 'Cherry', 'Pineapple', 'Guava']"
      ]
     },
     "execution_count": 52,
     "metadata": {},
     "output_type": "execute_result"
    }
   ],
   "source": [
    "myFruits"
   ]
  },
  {
   "cell_type": "code",
   "execution_count": 53,
   "id": "663c6824-405e-4cad-bffb-281d34783338",
   "metadata": {},
   "outputs": [],
   "source": [
    "myFruits[-1] = \"Grape\""
   ]
  },
  {
   "cell_type": "code",
   "execution_count": 54,
   "id": "c85f1033-1fe4-483a-96ff-ce2f182c516b",
   "metadata": {},
   "outputs": [
    {
     "data": {
      "text/plain": [
       "['carrot', 'Apple', 'Kiwi', 'Cherry', 'Pineapple', 'Grape']"
      ]
     },
     "execution_count": 54,
     "metadata": {},
     "output_type": "execute_result"
    }
   ],
   "source": [
    "myFruits"
   ]
  },
  {
   "cell_type": "markdown",
   "id": "3c8b87c9-9759-4922-acbb-bc6b5fac7366",
   "metadata": {},
   "source": [
    "#### REMOVE METHOD"
   ]
  },
  {
   "cell_type": "code",
   "execution_count": 56,
   "id": "38da3784-fbbf-45f9-b539-dd5fd5bb8da9",
   "metadata": {},
   "outputs": [],
   "source": [
    "# Remove an item from a list\n",
    "myFruits.remove(\"Kiwi\")"
   ]
  },
  {
   "cell_type": "code",
   "execution_count": 57,
   "id": "be6347b6-0951-4f17-9f50-2c82e29a309d",
   "metadata": {},
   "outputs": [
    {
     "data": {
      "text/plain": [
       "['carrot', 'Apple', 'Cherry', 'Pineapple', 'Grape']"
      ]
     },
     "execution_count": 57,
     "metadata": {},
     "output_type": "execute_result"
    }
   ],
   "source": [
    "myFruits"
   ]
  },
  {
   "cell_type": "markdown",
   "id": "bf84f617-4544-4687-bdd6-3d02eb23f584",
   "metadata": {},
   "source": [
    "#### INSERT METHOD"
   ]
  },
  {
   "cell_type": "code",
   "execution_count": 59,
   "id": "139775f1-a1d1-4f46-9a70-0c9bb2bb53f5",
   "metadata": {},
   "outputs": [],
   "source": [
    "# Insert an item to a list\n",
    "myFruits.insert(2, \"Banana\")"
   ]
  },
  {
   "cell_type": "code",
   "execution_count": 60,
   "id": "7e979f96-a3fa-4826-901c-dbef4924baf1",
   "metadata": {},
   "outputs": [
    {
     "data": {
      "text/plain": [
       "['carrot', 'Apple', 'Banana', 'Cherry', 'Pineapple', 'Grape']"
      ]
     },
     "execution_count": 60,
     "metadata": {},
     "output_type": "execute_result"
    }
   ],
   "source": [
    "myFruits"
   ]
  },
  {
   "cell_type": "markdown",
   "id": "c1f10082-6cb8-4171-878a-5e10d166769f",
   "metadata": {},
   "source": [
    "#### CLEAR METHOD"
   ]
  },
  {
   "cell_type": "code",
   "execution_count": 61,
   "id": "52a18605-7bc1-4e60-879d-e78130e41941",
   "metadata": {},
   "outputs": [],
   "source": [
    "# Clear all items in a list\n",
    "myFruits.clear()"
   ]
  },
  {
   "cell_type": "code",
   "execution_count": 62,
   "id": "9d7cad5f-be60-4e2d-933c-aa08bb1ea81d",
   "metadata": {},
   "outputs": [
    {
     "data": {
      "text/plain": [
       "[]"
      ]
     },
     "execution_count": 62,
     "metadata": {},
     "output_type": "execute_result"
    }
   ],
   "source": [
    "myFruits"
   ]
  },
  {
   "cell_type": "markdown",
   "id": "0e70e074-b45f-4758-97dd-3ed97851530b",
   "metadata": {},
   "source": [
    "### IF ELSE STATEMENT"
   ]
  },
  {
   "cell_type": "code",
   "execution_count": 50,
   "id": "8e572ac9-ec2d-4579-8255-f39f48f4f4bf",
   "metadata": {},
   "outputs": [],
   "source": [
    "numbers = 11"
   ]
  },
  {
   "cell_type": "code",
   "execution_count": 57,
   "id": "8802439a-5f6e-454e-89ff-50d01526ad97",
   "metadata": {},
   "outputs": [
    {
     "name": "stdout",
     "output_type": "stream",
     "text": [
      "even\n"
     ]
    }
   ],
   "source": [
    "#if else satement\n",
    "if numbers % 2 == 0:\n",
    "    print(\"even\")\n",
    "else:\n",
    "    print(\"odd\")"
   ]
  },
  {
   "cell_type": "code",
   "execution_count": 56,
   "id": "4286650a-a22b-407a-ae3f-ba26dfc249da",
   "metadata": {},
   "outputs": [],
   "source": [
    "numbers = 4"
   ]
  },
  {
   "cell_type": "markdown",
   "id": "a9769ba3-f09a-4009-a8fc-1a57fea4ce0c",
   "metadata": {},
   "source": [
    "#### IF ELSE STATEMENT"
   ]
  },
  {
   "cell_type": "code",
   "execution_count": 59,
   "id": "9f91d089-f4ed-40a1-8d5a-a31a112015f7",
   "metadata": {},
   "outputs": [],
   "source": [
    "x = 10"
   ]
  },
  {
   "cell_type": "code",
   "execution_count": 60,
   "id": "a8c86d51-1efb-4885-818f-7cdd29b9e78c",
   "metadata": {},
   "outputs": [],
   "source": [
    "if x == 20:\n",
    "    print(\"x is twenty\")"
   ]
  },
  {
   "cell_type": "code",
   "execution_count": 61,
   "id": "2c1f383c-774e-45e8-bcc3-dc7de2380639",
   "metadata": {},
   "outputs": [
    {
     "name": "stdout",
     "output_type": "stream",
     "text": [
      "x is twenty\n"
     ]
    }
   ],
   "source": [
    "if x <= 20:\n",
    "    print(\"x is twenty\")"
   ]
  },
  {
   "cell_type": "code",
   "execution_count": 62,
   "id": "75251ac9-db06-4189-b3ed-914b95105168",
   "metadata": {},
   "outputs": [],
   "source": [
    "score = 30"
   ]
  },
  {
   "cell_type": "code",
   "execution_count": 63,
   "id": "a6fd2c20-3f96-4454-8c3b-df51c58d7b81",
   "metadata": {},
   "outputs": [
    {
     "name": "stdout",
     "output_type": "stream",
     "text": [
      "fail\n"
     ]
    }
   ],
   "source": [
    "if score > 50:\n",
    "    print(\"pass\")\n",
    "else:\n",
    "    print(\"fail\")"
   ]
  },
  {
   "cell_type": "code",
   "execution_count": 72,
   "id": "cccd2b19-bb4e-447b-9d77-0c51fc275c1b",
   "metadata": {},
   "outputs": [],
   "source": [
    "username = \"lizzy\"\n",
    "password = \"lizzy123\""
   ]
  },
  {
   "cell_type": "code",
   "execution_count": 75,
   "id": "2817b803-ddd2-4d4e-b97a-830ece869ae6",
   "metadata": {},
   "outputs": [
    {
     "name": "stdout",
     "output_type": "stream",
     "text": [
      "Login error!!, check username or password\n"
     ]
    }
   ],
   "source": [
    "if username == \"lizzy\" and password == \"lizzy1234\":\n",
    "    print(\"Login successful\")\n",
    "else:\n",
    "     print(\"Login error!!, check username or password\")\n",
    "\n"
   ]
  },
  {
   "cell_type": "code",
   "execution_count": 76,
   "id": "2bd83121-8955-4058-badb-421b7fa11725",
   "metadata": {},
   "outputs": [
    {
     "name": "stdout",
     "output_type": "stream",
     "text": [
      "Login successful\n"
     ]
    }
   ],
   "source": [
    "if username == \"lizzy\" and password == \"lizzy123\":\n",
    "    print(\"Login successful\")\n",
    "else:\n",
    "     print(\"Login error!!, check username or password\")\n"
   ]
  },
  {
   "cell_type": "markdown",
   "id": "c13a1cd0-7f39-4130-a0dd-10720d89f137",
   "metadata": {},
   "source": [
    "#### IF ELIF ELSE STATEMENT"
   ]
  },
  {
   "cell_type": "code",
   "execution_count": 77,
   "id": "d1babf42-7e99-4989-b715-3df1bdf5bf9d",
   "metadata": {},
   "outputs": [],
   "source": [
    "age = 25"
   ]
  },
  {
   "cell_type": "code",
   "execution_count": 80,
   "id": "48000de6-c9d0-406e-ab63-4c004035216c",
   "metadata": {},
   "outputs": [
    {
     "name": "stdout",
     "output_type": "stream",
     "text": [
      "Adult\n"
     ]
    }
   ],
   "source": [
    "if age <= 17:\n",
    "    print(\"Adolescent\")\n",
    "elif age <= 49:\n",
    "    print(\"Adult\")\n",
    "else:\n",
    "    print(\"Old\")"
   ]
  },
  {
   "cell_type": "code",
   "execution_count": 81,
   "id": "2b4ad9b7-8931-4a58-a91a-c83fd27f34ef",
   "metadata": {},
   "outputs": [],
   "source": [
    "a = 30\n",
    "b = 24\n",
    "c = 50"
   ]
  },
  {
   "cell_type": "code",
   "execution_count": 83,
   "id": "7f959848-845d-4c62-9029-c1c48fbd0546",
   "metadata": {},
   "outputs": [
    {
     "name": "stdout",
     "output_type": "stream",
     "text": [
      "Something\n"
     ]
    }
   ],
   "source": [
    "if a > b or b > c:\n",
    "    print(\"Something\")"
   ]
  },
  {
   "cell_type": "code",
   "execution_count": 84,
   "id": "014ed609-2883-4662-a1e8-c64bfc552f56",
   "metadata": {},
   "outputs": [],
   "source": [
    "if a < b or c < a:\n",
    "    print(\"Something\")"
   ]
  },
  {
   "cell_type": "code",
   "execution_count": 85,
   "id": "c4887c16-adfc-49d8-b56b-57662c734676",
   "metadata": {},
   "outputs": [
    {
     "name": "stdout",
     "output_type": "stream",
     "text": [
      "condition is false\n"
     ]
    }
   ],
   "source": [
    "if a < b or c < a:\n",
    "    print(\"condition is true\")\n",
    "else:\n",
    "    print(\"condition is false\")\n"
   ]
  },
  {
   "cell_type": "code",
   "execution_count": 86,
   "id": "aee2644a-3552-4d0e-8017-c2a720d1db6c",
   "metadata": {},
   "outputs": [],
   "source": [
    "myList = [12, 1, 82]"
   ]
  },
  {
   "cell_type": "code",
   "execution_count": 87,
   "id": "6ba2d59d-6c32-4332-8ca7-c6ba51ae0663",
   "metadata": {},
   "outputs": [
    {
     "data": {
      "text/plain": [
       "3"
      ]
     },
     "execution_count": 87,
     "metadata": {},
     "output_type": "execute_result"
    }
   ],
   "source": [
    "# Number of items inside a list\n",
    "len(myList)"
   ]
  },
  {
   "cell_type": "markdown",
   "id": "cb083fc2-b835-478f-b2ed-0041dbc986e5",
   "metadata": {},
   "source": [
    "#### DICTIONARY"
   ]
  },
  {
   "cell_type": "code",
   "execution_count": 88,
   "id": "e2c30e96-ec2e-4990-bb82-735437b1b2f6",
   "metadata": {},
   "outputs": [],
   "source": [
    "Userdetails = {\"Name\" : \"John\", \"Color\" : \"Black\", \"State\" : \"Enugu\"}"
   ]
  },
  {
   "cell_type": "code",
   "execution_count": 89,
   "id": "8b4aa702-d831-469d-9131-11d5222c7f16",
   "metadata": {},
   "outputs": [
    {
     "data": {
      "text/plain": [
       "'John'"
      ]
     },
     "execution_count": 89,
     "metadata": {},
     "output_type": "execute_result"
    }
   ],
   "source": [
    "Userdetails[\"Name\"]"
   ]
  },
  {
   "cell_type": "code",
   "execution_count": 90,
   "id": "123fd5a3-0622-4e94-95a8-7a4f69780d80",
   "metadata": {},
   "outputs": [
    {
     "data": {
      "text/plain": [
       "'Enugu'"
      ]
     },
     "execution_count": 90,
     "metadata": {},
     "output_type": "execute_result"
    }
   ],
   "source": [
    "Userdetails[\"State\"]"
   ]
  },
  {
   "cell_type": "markdown",
   "id": "342af77a-2687-4dd4-ba3b-0a35857f6129",
   "metadata": {},
   "source": [
    "### UPDATE METHOD\n",
    "Used to add new items to a dictionary"
   ]
  },
  {
   "cell_type": "code",
   "execution_count": 100,
   "id": "12d62fef-3dfa-40cc-993d-5e88c66270e3",
   "metadata": {},
   "outputs": [],
   "source": [
    "# Add a new key value called sex to the dictionary Userdetails\n",
    "Userdetails.update({\"Sex\" : \"Male\"})"
   ]
  },
  {
   "cell_type": "code",
   "execution_count": 101,
   "id": "0c7d7839-3779-4a73-8ee3-ed0824767b64",
   "metadata": {},
   "outputs": [
    {
     "data": {
      "text/plain": [
       "{'Name': 'John', 'Color': 'Black', 'State': 'Calabar', 'Sex': 'Male'}"
      ]
     },
     "execution_count": 101,
     "metadata": {},
     "output_type": "execute_result"
    }
   ],
   "source": [
    "Userdetails"
   ]
  },
  {
   "cell_type": "code",
   "execution_count": 102,
   "id": "a7b1679b-2e06-4481-8e33-ee872ff023a5",
   "metadata": {},
   "outputs": [],
   "source": [
    "# change state from Enugu to Calabar\n",
    "Userdetails['State'] = \"Calabar\""
   ]
  },
  {
   "cell_type": "code",
   "execution_count": 103,
   "id": "58e4a1da-7db4-4801-952f-21e9f6164250",
   "metadata": {},
   "outputs": [
    {
     "data": {
      "text/plain": [
       "{'Name': 'John', 'Color': 'Black', 'State': 'Calabar', 'Sex': 'Male'}"
      ]
     },
     "execution_count": 103,
     "metadata": {},
     "output_type": "execute_result"
    }
   ],
   "source": [
    "Userdetails"
   ]
  },
  {
   "cell_type": "code",
   "execution_count": 104,
   "id": "b2aaf046-9f38-4771-8508-7616ba368152",
   "metadata": {},
   "outputs": [],
   "source": [
    "Userdetails['Age'] = 35"
   ]
  },
  {
   "cell_type": "code",
   "execution_count": 105,
   "id": "6ea8178a-6b7f-42fc-9777-9e5075c7a19c",
   "metadata": {},
   "outputs": [
    {
     "data": {
      "text/plain": [
       "{'Name': 'John',\n",
       " 'Color': 'Black',\n",
       " 'State': 'Calabar',\n",
       " 'Sex': 'Male',\n",
       " 'Age': 35}"
      ]
     },
     "execution_count": 105,
     "metadata": {},
     "output_type": "execute_result"
    }
   ],
   "source": [
    "Userdetails"
   ]
  },
  {
   "cell_type": "markdown",
   "id": "116ec662-ec3e-46d0-8dc9-ab44693ac9ec",
   "metadata": {},
   "source": [
    "### REMOVE METHOD\n",
    "From dictionary"
   ]
  },
  {
   "cell_type": "code",
   "execution_count": 106,
   "id": "e34f496d-7c2d-4a3f-9b3e-b4eb4409ec13",
   "metadata": {},
   "outputs": [
    {
     "data": {
      "text/plain": [
       "'Black'"
      ]
     },
     "execution_count": 106,
     "metadata": {},
     "output_type": "execute_result"
    }
   ],
   "source": [
    "# Remove from dictionary\n",
    "Userdetails.pop(\"Color\")\n"
   ]
  },
  {
   "cell_type": "code",
   "execution_count": 107,
   "id": "c1cd106d-2aaa-44f6-adcb-d37cd62acf3d",
   "metadata": {},
   "outputs": [
    {
     "data": {
      "text/plain": [
       "{'Name': 'John', 'State': 'Calabar', 'Sex': 'Male', 'Age': 35}"
      ]
     },
     "execution_count": 107,
     "metadata": {},
     "output_type": "execute_result"
    }
   ],
   "source": [
    "Userdetails"
   ]
  },
  {
   "cell_type": "code",
   "execution_count": 108,
   "id": "ef7cdb6c-374b-46f1-b0f5-6efbc6c15ab7",
   "metadata": {},
   "outputs": [
    {
     "data": {
      "text/plain": [
       "35"
      ]
     },
     "execution_count": 108,
     "metadata": {},
     "output_type": "execute_result"
    }
   ],
   "source": [
    "Userdetails.pop(\"Age\")"
   ]
  },
  {
   "cell_type": "code",
   "execution_count": 110,
   "id": "e2dd8243-88be-472d-84be-e5739d19a42f",
   "metadata": {},
   "outputs": [
    {
     "data": {
      "text/plain": [
       "{'Name': 'John', 'State': 'Calabar', 'Sex': 'Male'}"
      ]
     },
     "execution_count": 110,
     "metadata": {},
     "output_type": "execute_result"
    }
   ],
   "source": [
    "Userdetails"
   ]
  },
  {
   "cell_type": "code",
   "execution_count": 113,
   "id": "fed22fe3-fd4c-4069-a587-7eb5a2fad0e2",
   "metadata": {},
   "outputs": [],
   "source": [
    "# Remove all item from a dictionary\n",
    "Userdetails.clear()"
   ]
  },
  {
   "cell_type": "code",
   "execution_count": 114,
   "id": "5077dc37-bc51-457a-8156-1c19982d8031",
   "metadata": {},
   "outputs": [
    {
     "data": {
      "text/plain": [
       "{}"
      ]
     },
     "execution_count": 114,
     "metadata": {},
     "output_type": "execute_result"
    }
   ],
   "source": [
    "Userdetails"
   ]
  },
  {
   "cell_type": "markdown",
   "id": "e7f2dc7a-5226-48ad-ad0c-33e0c9adac96",
   "metadata": {},
   "source": [
    "### KEY METHOD"
   ]
  },
  {
   "cell_type": "code",
   "execution_count": 134,
   "id": "5a7e234a-5d83-4303-b44a-cf55f8a73680",
   "metadata": {},
   "outputs": [
    {
     "data": {
      "text/plain": [
       "dict_keys(['Name', 'Color', 'State'])"
      ]
     },
     "execution_count": 134,
     "metadata": {},
     "output_type": "execute_result"
    }
   ],
   "source": [
    "### callout all the keys in the ditionary\n",
    "Userdetails = {\"Name\" : \"John\", \"Color\" : \"Black\", \"State\" : \"Enugu\"}\n",
    "Userdetails.keys()"
   ]
  },
  {
   "cell_type": "markdown",
   "id": "8a2788f6-9177-4fb8-bd1d-fe58bebe1f7b",
   "metadata": {},
   "source": [
    "### VALUE METHOD"
   ]
  },
  {
   "cell_type": "code",
   "execution_count": 135,
   "id": "dea6834d-8c2a-4394-88be-4a3fa2cb5c16",
   "metadata": {},
   "outputs": [
    {
     "data": {
      "text/plain": [
       "dict_values(['John', 'Black', 'Enugu'])"
      ]
     },
     "execution_count": 135,
     "metadata": {},
     "output_type": "execute_result"
    }
   ],
   "source": [
    "Userdetails.values()"
   ]
  },
  {
   "cell_type": "markdown",
   "id": "87e686ab-a229-410f-902c-2ca204d4e07c",
   "metadata": {},
   "source": [
    "### WHILE LOOP"
   ]
  },
  {
   "cell_type": "code",
   "execution_count": 118,
   "id": "3ac17c54-bbd4-4e4a-a77f-0e0e2ab8add8",
   "metadata": {},
   "outputs": [
    {
     "name": "stdout",
     "output_type": "stream",
     "text": [
      "2\n",
      "4\n",
      "6\n",
      "8\n",
      "10\n",
      "12\n",
      "14\n",
      "16\n",
      "18\n",
      "20\n"
     ]
    }
   ],
   "source": [
    "#Even numbers from 2 to 20\n",
    "i = 2\n",
    "while i <= 20:\n",
    "  print(i)\n",
    "  i = i + 2\n",
    "   "
   ]
  },
  {
   "cell_type": "code",
   "execution_count": 119,
   "id": "1138e0e6-3857-4fbd-aeaf-3c95d4fee490",
   "metadata": {},
   "outputs": [
    {
     "name": "stdout",
     "output_type": "stream",
     "text": [
      "1\n",
      "3\n",
      "5\n",
      "7\n",
      "9\n",
      "11\n",
      "13\n",
      "15\n",
      "17\n",
      "19\n",
      "21\n",
      "23\n",
      "25\n",
      "27\n",
      "29\n",
      "31\n",
      "33\n",
      "35\n",
      "37\n",
      "39\n",
      "41\n",
      "43\n",
      "45\n",
      "47\n",
      "49\n"
     ]
    }
   ],
   "source": [
    "# Odd numbers from 1 to 50\n",
    "i = 1\n",
    "while i < 50:\n",
    "  print(i)\n",
    "  i = i + 2"
   ]
  },
  {
   "cell_type": "code",
   "execution_count": 121,
   "id": "bde86156-8cfe-4233-8ec2-b28261a29507",
   "metadata": {},
   "outputs": [
    {
     "name": "stdout",
     "output_type": "stream",
     "text": [
      "2\n",
      "4\n",
      "6\n",
      "8\n",
      "10\n",
      "12\n",
      "14\n",
      "16\n",
      "18\n",
      "20\n",
      "22\n",
      "24\n",
      "26\n",
      "28\n",
      "30\n",
      "32\n",
      "34\n",
      "36\n",
      "38\n",
      "40\n",
      "42\n",
      "44\n",
      "46\n",
      "48\n",
      "50\n",
      "52\n",
      "54\n",
      "56\n",
      "58\n",
      "60\n",
      "62\n",
      "64\n",
      "66\n",
      "68\n",
      "70\n",
      "72\n",
      "74\n",
      "76\n",
      "78\n",
      "80\n",
      "82\n",
      "84\n",
      "86\n",
      "88\n",
      "90\n",
      "92\n",
      "94\n",
      "96\n",
      "98\n",
      "100\n"
     ]
    }
   ],
   "source": [
    "#Even numbers from 2 to 100\n",
    "i = 2\n",
    "while i <= 100:\n",
    "  print(i)\n",
    "  i = i + 2"
   ]
  },
  {
   "cell_type": "code",
   "execution_count": 123,
   "id": "0fb3a095-47aa-43f4-9fa7-d9ad4ea1d7f7",
   "metadata": {},
   "outputs": [
    {
     "name": "stdout",
     "output_type": "stream",
     "text": [
      "1\n",
      "3\n",
      "5\n",
      "7\n",
      "9\n",
      "11\n",
      "13\n",
      "15\n",
      "17\n",
      "19\n",
      "21\n",
      "23\n",
      "25\n",
      "27\n",
      "29\n",
      "31\n",
      "33\n",
      "35\n",
      "37\n",
      "39\n",
      "41\n",
      "43\n",
      "45\n",
      "47\n",
      "49\n",
      "51\n",
      "53\n",
      "55\n",
      "57\n",
      "59\n",
      "61\n",
      "63\n",
      "65\n",
      "67\n",
      "69\n",
      "71\n",
      "73\n",
      "75\n",
      "77\n",
      "79\n",
      "81\n",
      "83\n",
      "85\n",
      "87\n",
      "89\n",
      "91\n",
      "93\n",
      "95\n",
      "97\n",
      "99\n"
     ]
    }
   ],
   "source": [
    "# Odd numbers from 1 to 100\n",
    "i = 1\n",
    "while i <= 100:\n",
    "  print(i)\n",
    "  i += 2"
   ]
  },
  {
   "cell_type": "markdown",
   "id": "e180b918-4717-437c-ac8a-b86ca644bf33",
   "metadata": {},
   "source": [
    "### FOR LOOPS"
   ]
  },
  {
   "cell_type": "code",
   "execution_count": 125,
   "id": "5a9df354-9d02-44ed-87d4-902f0861d9b0",
   "metadata": {},
   "outputs": [
    {
     "name": "stdout",
     "output_type": "stream",
     "text": [
      "Mango\n",
      "Apple\n",
      "Orange\n"
     ]
    }
   ],
   "source": [
    "fruits = [\"Mango\", \"Apple\", \"Orange\"]\n",
    "for item in fruits:\n",
    "  print(item)\n"
   ]
  },
  {
   "cell_type": "code",
   "execution_count": 126,
   "id": "02eda498-7261-4530-8a18-4fe58abb3e02",
   "metadata": {},
   "outputs": [
    {
     "name": "stdout",
     "output_type": "stream",
     "text": [
      "O\n",
      "r\n",
      "a\n",
      "n\n",
      "g\n",
      "e\n"
     ]
    }
   ],
   "source": [
    "# Loop through a string\n",
    "for x in \"Orange\":\n",
    "    print(x)"
   ]
  },
  {
   "cell_type": "code",
   "execution_count": 127,
   "id": "892cf2bf-f132-4e81-88b6-0ab8bb11b9c2",
   "metadata": {},
   "outputs": [],
   "source": [
    "myList = [2, 4, 7, 9]"
   ]
  },
  {
   "cell_type": "code",
   "execution_count": 149,
   "id": "88784baf-5d03-4277-9901-8beee72aa5cc",
   "metadata": {},
   "outputs": [
    {
     "name": "stdout",
     "output_type": "stream",
     "text": [
      "4\n",
      "16\n",
      "49\n",
      "81\n"
     ]
    }
   ],
   "source": [
    "for y in myList:\n",
    "    print(y ** 2)"
   ]
  },
  {
   "cell_type": "code",
   "execution_count": 150,
   "id": "a011fc24-d739-40d7-a5bd-039c63b42e3a",
   "metadata": {},
   "outputs": [],
   "source": [
    "myRange = range(6)"
   ]
  },
  {
   "cell_type": "code",
   "execution_count": 152,
   "id": "c9f7633c-7e04-4235-9c62-f789aa55af60",
   "metadata": {},
   "outputs": [
    {
     "name": "stdout",
     "output_type": "stream",
     "text": [
      "0\n",
      "1\n",
      "2\n",
      "3\n",
      "4\n",
      "5\n"
     ]
    }
   ],
   "source": [
    "for y in myRange:\n",
    "    print(y)"
   ]
  },
  {
   "cell_type": "code",
   "execution_count": 154,
   "id": "4188b15c-030d-442e-8380-f895679e3c52",
   "metadata": {},
   "outputs": [],
   "source": [
    "# Range with a start and stop value\n",
    "myRangeTwo = range(2, 10)"
   ]
  },
  {
   "cell_type": "code",
   "execution_count": 155,
   "id": "56b5b118-8f1e-4d51-8d1e-8587d26c374f",
   "metadata": {},
   "outputs": [
    {
     "name": "stdout",
     "output_type": "stream",
     "text": [
      "2\n",
      "3\n",
      "4\n",
      "5\n",
      "6\n",
      "7\n",
      "8\n",
      "9\n"
     ]
    }
   ],
   "source": [
    "for x in myRangeTwo :\n",
    "    print(x)"
   ]
  },
  {
   "cell_type": "code",
   "execution_count": 136,
   "id": "e3999264-ece7-4f2d-9953-e385f066390a",
   "metadata": {},
   "outputs": [],
   "source": [
    "# For loop through a dictionary\n",
    "myDict = {\"sex\" : \"M\", \"Age\" : 50}"
   ]
  },
  {
   "cell_type": "code",
   "execution_count": 137,
   "id": "6f289c57-8262-45d6-8710-cd2bdfd58ba8",
   "metadata": {},
   "outputs": [
    {
     "name": "stdout",
     "output_type": "stream",
     "text": [
      "sex\n",
      "Age\n"
     ]
    }
   ],
   "source": [
    "for x in myDict:\n",
    "    print(x)"
   ]
  },
  {
   "cell_type": "code",
   "execution_count": 138,
   "id": "81452784-d293-42b5-bd63-3cc0b7177feb",
   "metadata": {},
   "outputs": [
    {
     "data": {
      "text/plain": [
       "dict_items([('sex', 'M'), ('Age', 50)])"
      ]
     },
     "execution_count": 138,
     "metadata": {},
     "output_type": "execute_result"
    }
   ],
   "source": [
    "myDict.items()"
   ]
  },
  {
   "cell_type": "code",
   "execution_count": 143,
   "id": "d03c8c5a-29ec-4f55-bc09-db8b98841da5",
   "metadata": {},
   "outputs": [
    {
     "name": "stdout",
     "output_type": "stream",
     "text": [
      "sex M\n",
      "Age 50\n"
     ]
    }
   ],
   "source": [
    "# For loop through  both keys and values\n",
    "for x, y in myDict.items():\n",
    "    print(x,y)"
   ]
  },
  {
   "cell_type": "code",
   "execution_count": 146,
   "id": "75d015ea-ab2c-43fa-a142-acc63360ae25",
   "metadata": {},
   "outputs": [
    {
     "name": "stdout",
     "output_type": "stream",
     "text": [
      "M\n",
      "50\n"
     ]
    }
   ],
   "source": [
    "# For loop over/through a dict values\n",
    "for x in myDict.values():\n",
    "    print(x)"
   ]
  },
  {
   "cell_type": "code",
   "execution_count": 147,
   "id": "4cf87d4d-f99d-4bd8-9ccb-b4fad9ad2441",
   "metadata": {},
   "outputs": [
    {
     "name": "stdout",
     "output_type": "stream",
     "text": [
      "sex\n",
      "Age\n"
     ]
    }
   ],
   "source": [
    "# For loop over/through a dict keys\n",
    "for x in myDict.keys():\n",
    "    print(x)"
   ]
  },
  {
   "cell_type": "markdown",
   "id": "cdce6a10-8680-4890-8b1a-ac7cde5c5f89",
   "metadata": {},
   "source": [
    "### FUNCTION "
   ]
  },
  {
   "cell_type": "code",
   "execution_count": 156,
   "id": "c4ef6a38-6e67-4d40-8bae-fc8c37658d8e",
   "metadata": {},
   "outputs": [
    {
     "name": "stdout",
     "output_type": "stream",
     "text": [
      "Hello world\n"
     ]
    }
   ],
   "source": [
    "print(\"Hello world\")"
   ]
  },
  {
   "cell_type": "code",
   "execution_count": 157,
   "id": "c7f29f68-d60d-466f-bba5-a5b545004ea0",
   "metadata": {},
   "outputs": [],
   "source": [
    "def myFunction():\n",
    "    print(\"Hello world\")"
   ]
  },
  {
   "cell_type": "code",
   "execution_count": 159,
   "id": "39a7bfdd-1465-4071-93d6-42920460abc3",
   "metadata": {},
   "outputs": [
    {
     "name": "stdout",
     "output_type": "stream",
     "text": [
      "Hello world\n"
     ]
    }
   ],
   "source": [
    "myFunction()"
   ]
  },
  {
   "cell_type": "code",
   "execution_count": 161,
   "id": "a04f738a-d1ec-412c-a7e1-23f918d159a4",
   "metadata": {},
   "outputs": [],
   "source": [
    "def name(x):\n",
    "    print(x)"
   ]
  },
  {
   "cell_type": "code",
   "execution_count": 162,
   "id": "40650ea9-cffd-4a34-91fc-4f2203dcaf01",
   "metadata": {},
   "outputs": [
    {
     "name": "stdout",
     "output_type": "stream",
     "text": [
      "Ahmad\n"
     ]
    }
   ],
   "source": [
    "name(\"Ahmad\")"
   ]
  },
  {
   "cell_type": "code",
   "execution_count": 163,
   "id": "b186c656-cd54-462c-90a8-3cbf31f0f7e6",
   "metadata": {},
   "outputs": [
    {
     "name": "stdout",
     "output_type": "stream",
     "text": [
      "Ahmad\n"
     ]
    }
   ],
   "source": [
    "print(\"Ahmad\")"
   ]
  },
  {
   "cell_type": "code",
   "execution_count": 164,
   "id": "922719ee-87aa-4de3-8685-b5cdb5914b29",
   "metadata": {},
   "outputs": [
    {
     "name": "stdout",
     "output_type": "stream",
     "text": [
      "Odd\n"
     ]
    }
   ],
   "source": [
    "number = 1\n",
    "if number % 2 == 0:\n",
    "    print(\"Even\")\n",
    "else:\n",
    "    print(\"Odd\")"
   ]
  },
  {
   "cell_type": "code",
   "execution_count": 167,
   "id": "0ff53981-0735-4819-8b12-c98ce09be91c",
   "metadata": {},
   "outputs": [],
   "source": [
    "def Even_Odd(x):\n",
    "    if x % 2 == 0:\n",
    "       print(\"Even\")\n",
    "    else:\n",
    "        print(\"Odd\")"
   ]
  },
  {
   "cell_type": "code",
   "execution_count": 168,
   "id": "15a49c67-1072-418a-abfc-075e7c83a007",
   "metadata": {},
   "outputs": [
    {
     "name": "stdout",
     "output_type": "stream",
     "text": [
      "Even\n"
     ]
    }
   ],
   "source": [
    "Even_Odd(4)"
   ]
  },
  {
   "cell_type": "code",
   "execution_count": 169,
   "id": "5d0df62e-399d-44e0-8f45-da7bf3a8bb5e",
   "metadata": {},
   "outputs": [
    {
     "name": "stdout",
     "output_type": "stream",
     "text": [
      "Odd\n"
     ]
    }
   ],
   "source": [
    "Even_Odd(9)"
   ]
  },
  {
   "cell_type": "code",
   "execution_count": 170,
   "id": "e397a837-c515-412a-8c47-fc0c30f90f97",
   "metadata": {},
   "outputs": [],
   "source": [
    "a = 19\n",
    "b = 5"
   ]
  },
  {
   "cell_type": "code",
   "execution_count": 171,
   "id": "2bacd685-b304-4578-b96a-e899aaf63a32",
   "metadata": {},
   "outputs": [
    {
     "data": {
      "text/plain": [
       "24"
      ]
     },
     "execution_count": 171,
     "metadata": {},
     "output_type": "execute_result"
    }
   ],
   "source": [
    "a + b"
   ]
  },
  {
   "cell_type": "code",
   "execution_count": 172,
   "id": "b3510777-7e99-4fcd-9660-dfc382e73457",
   "metadata": {},
   "outputs": [],
   "source": [
    "# Add a function that add two numbers together\n",
    "def sum(x, y):\n",
    "    print(x+y)"
   ]
  },
  {
   "cell_type": "code",
   "execution_count": 174,
   "id": "ffd1ae5d-89c3-42eb-967b-1eb7420e161f",
   "metadata": {},
   "outputs": [
    {
     "name": "stdout",
     "output_type": "stream",
     "text": [
      "35\n"
     ]
    }
   ],
   "source": [
    "sum(10, 25)"
   ]
  },
  {
   "cell_type": "code",
   "execution_count": 176,
   "id": "c47e103e-2752-4e34-bdcd-e0c79a2426fb",
   "metadata": {},
   "outputs": [
    {
     "name": "stdout",
     "output_type": "stream",
     "text": [
      "7\n"
     ]
    }
   ],
   "source": [
    "sum(5, 2)"
   ]
  },
  {
   "cell_type": "code",
   "execution_count": 177,
   "id": "56d478d5-6f8b-403f-8c41-8aa751d11061",
   "metadata": {},
   "outputs": [],
   "source": [
    "# Add a function thst subtract numbers together\n",
    "def sub(x,y):\n",
    "    print(x-y)"
   ]
  },
  {
   "cell_type": "code",
   "execution_count": 179,
   "id": "b6b761f7-de4d-43ed-8eed-fa0739501d49",
   "metadata": {},
   "outputs": [
    {
     "name": "stdout",
     "output_type": "stream",
     "text": [
      "20\n"
     ]
    }
   ],
   "source": [
    "sub(40, 20)"
   ]
  },
  {
   "cell_type": "markdown",
   "id": "8141460e-ad07-491e-aa6f-ecef3f95f89b",
   "metadata": {},
   "source": [
    "### Create a function called login. The function would take in the user's username and password, then compare it with the system login details. If the details match, the system should say Login successful, else invalid login details"
   ]
  },
  {
   "cell_type": "code",
   "execution_count": 181,
   "id": "a13f0f68-c99d-43eb-8d08-dfa94f782bf2",
   "metadata": {},
   "outputs": [],
   "source": [
    "def Login(username, password):\n",
    "    if username == \"lizzy\" and password == \"lizzy123\":\n",
    "        print(\"Login successful\")\n",
    "    else:\n",
    "        print(\"invalid login details!!!\")\n",
    "    "
   ]
  },
  {
   "cell_type": "code",
   "execution_count": 182,
   "id": "493521da-eb88-4ecf-9411-b88b5ef2dcc0",
   "metadata": {},
   "outputs": [
    {
     "name": "stdout",
     "output_type": "stream",
     "text": [
      "Login successful\n"
     ]
    }
   ],
   "source": [
    "Login(\"lizzy\", \"lizzy123\")"
   ]
  },
  {
   "cell_type": "code",
   "execution_count": 183,
   "id": "edc4efdb-587e-43f8-aee1-a58eeb216356",
   "metadata": {},
   "outputs": [
    {
     "name": "stdout",
     "output_type": "stream",
     "text": [
      "invalid login details!!!\n"
     ]
    }
   ],
   "source": [
    "Login(\"lizzy\", \"lizzy1234\")"
   ]
  },
  {
   "cell_type": "code",
   "execution_count": 184,
   "id": "c9caacf0-ca8b-4a6c-b532-a8288393081b",
   "metadata": {},
   "outputs": [
    {
     "name": "stdout",
     "output_type": "stream",
     "text": [
      "invalid login details!!!\n"
     ]
    }
   ],
   "source": [
    "Login(\"LIZZy\", \"lizzy1234\")"
   ]
  },
  {
   "cell_type": "code",
   "execution_count": 186,
   "id": "b157b1cc-3617-416c-9a14-5f0a00722af6",
   "metadata": {},
   "outputs": [],
   "source": [
    "#Area of a triangle\n",
    "def triangle(b, h):\n",
    "    area = 0.5 * b * h\n",
    "    return area"
   ]
  },
  {
   "cell_type": "code",
   "execution_count": 187,
   "id": "d254cd4e-a5b9-4214-ab53-b7995da5a9ba",
   "metadata": {},
   "outputs": [
    {
     "data": {
      "text/plain": [
       "600.0"
      ]
     },
     "execution_count": 187,
     "metadata": {},
     "output_type": "execute_result"
    }
   ],
   "source": [
    "triangle(8, 150)"
   ]
  },
  {
   "cell_type": "code",
   "execution_count": 190,
   "id": "95580cd0-033e-460c-b491-92eff0bb6448",
   "metadata": {},
   "outputs": [],
   "source": [
    "def triangle(b, h):\n",
    "    area = 0.5 * b * h\n",
    "    print(area)"
   ]
  },
  {
   "cell_type": "code",
   "execution_count": 191,
   "id": "86209120-bfe4-4aa5-b8d1-8434ced5aa41",
   "metadata": {},
   "outputs": [
    {
     "name": "stdout",
     "output_type": "stream",
     "text": [
      "500.0\n"
     ]
    }
   ],
   "source": [
    "triangle(20, 50)"
   ]
  },
  {
   "cell_type": "markdown",
   "id": "c7eeff1b-152f-488a-9382-0d19d4033c58",
   "metadata": {},
   "source": [
    "### STRING"
   ]
  },
  {
   "cell_type": "code",
   "execution_count": 192,
   "id": "a382842d-eded-452b-9630-0b1eeebb34f1",
   "metadata": {},
   "outputs": [
    {
     "data": {
      "text/plain": [
       "'Hello world'"
      ]
     },
     "execution_count": 192,
     "metadata": {},
     "output_type": "execute_result"
    }
   ],
   "source": [
    "myString = \"Hello world\"\n",
    "myString"
   ]
  },
  {
   "cell_type": "code",
   "execution_count": 193,
   "id": "c139c572-1b9c-4394-9e35-e14a1d70d30b",
   "metadata": {},
   "outputs": [
    {
     "data": {
      "text/plain": [
       "'Hell'"
      ]
     },
     "execution_count": 193,
     "metadata": {},
     "output_type": "execute_result"
    }
   ],
   "source": [
    "myString[:4]"
   ]
  },
  {
   "cell_type": "code",
   "execution_count": 194,
   "id": "eeae2490-21dd-4af8-bb88-17c2a2d85a97",
   "metadata": {},
   "outputs": [
    {
     "data": {
      "text/plain": [
       "'llo world'"
      ]
     },
     "execution_count": 194,
     "metadata": {},
     "output_type": "execute_result"
    }
   ],
   "source": [
    "myString[2:]"
   ]
  },
  {
   "cell_type": "code",
   "execution_count": 195,
   "id": "7daa60db-9e09-478e-bf32-e18d4ea9d10b",
   "metadata": {},
   "outputs": [
    {
     "data": {
      "text/plain": [
       "'Hello worl'"
      ]
     },
     "execution_count": 195,
     "metadata": {},
     "output_type": "execute_result"
    }
   ],
   "source": [
    "myString[:-1]"
   ]
  },
  {
   "cell_type": "code",
   "execution_count": 196,
   "id": "a4f05583-5c9d-48f5-99c5-156afe9301f7",
   "metadata": {},
   "outputs": [
    {
     "data": {
      "text/plain": [
       "'Hello world'"
      ]
     },
     "execution_count": 196,
     "metadata": {},
     "output_type": "execute_result"
    }
   ],
   "source": [
    "myString[:]"
   ]
  },
  {
   "cell_type": "code",
   "execution_count": 197,
   "id": "8002305e-a650-4edf-bed4-84d603923b58",
   "metadata": {},
   "outputs": [
    {
     "data": {
      "text/plain": [
       "'H'"
      ]
     },
     "execution_count": 197,
     "metadata": {},
     "output_type": "execute_result"
    }
   ],
   "source": [
    "myString[0]"
   ]
  },
  {
   "cell_type": "code",
   "execution_count": 198,
   "id": "ace778cf-9a46-45ba-b315-2ccc0fee8ff4",
   "metadata": {},
   "outputs": [
    {
     "data": {
      "text/plain": [
       "11"
      ]
     },
     "execution_count": 198,
     "metadata": {},
     "output_type": "execute_result"
    }
   ],
   "source": [
    "len(myString)"
   ]
  },
  {
   "cell_type": "code",
   "execution_count": 199,
   "id": "6ec5ab80-ed32-4080-bfdc-e0cdedcc88b7",
   "metadata": {},
   "outputs": [
    {
     "data": {
      "text/plain": [
       "16"
      ]
     },
     "execution_count": 199,
     "metadata": {},
     "output_type": "execute_result"
    }
   ],
   "source": [
    "len(\"this is a string\")"
   ]
  },
  {
   "cell_type": "raw",
   "id": "952e65ce-a20e-4473-a8ba-d41484cf92c2",
   "metadata": {},
   "source": [
    "#this is wrong\n",
    "\"hello\" + 32"
   ]
  },
  {
   "cell_type": "code",
   "execution_count": 202,
   "id": "381a647a-9976-4de4-8ccc-6d79fe5856c0",
   "metadata": {},
   "outputs": [
    {
     "data": {
      "text/plain": [
       "'hellohello'"
      ]
     },
     "execution_count": 202,
     "metadata": {},
     "output_type": "execute_result"
    }
   ],
   "source": [
    "\"hello\" * 2"
   ]
  },
  {
   "cell_type": "code",
   "execution_count": 207,
   "id": "c4eee54c-fa13-4fd3-a100-57d0737e359a",
   "metadata": {},
   "outputs": [
    {
     "data": {
      "text/plain": [
       "'liz adeb'"
      ]
     },
     "execution_count": 207,
     "metadata": {},
     "output_type": "execute_result"
    }
   ],
   "source": [
    "\"liz \" + \"adeb\""
   ]
  },
  {
   "cell_type": "code",
   "execution_count": 208,
   "id": "016d3bea-2e7a-4e6c-993f-eaabf43fde29",
   "metadata": {},
   "outputs": [],
   "source": [
    "x = \"liz\""
   ]
  },
  {
   "cell_type": "code",
   "execution_count": 209,
   "id": "e29d06f0-df08-4017-b10c-c8064054f5c5",
   "metadata": {},
   "outputs": [
    {
     "name": "stdout",
     "output_type": "stream",
     "text": [
      "My name is liz\n"
     ]
    }
   ],
   "source": [
    "print(\"My name is \" + x)"
   ]
  },
  {
   "cell_type": "code",
   "execution_count": 210,
   "id": "d49679ed-0dad-4a95-b8be-fda050df7a8a",
   "metadata": {},
   "outputs": [],
   "source": [
    "firstname = \"John\"\n",
    "lastname = \"Doe\""
   ]
  },
  {
   "cell_type": "code",
   "execution_count": 211,
   "id": "12157c39-6108-48cf-a669-71ee12b554ea",
   "metadata": {},
   "outputs": [
    {
     "data": {
      "text/plain": [
       "'JohnDoe'"
      ]
     },
     "execution_count": 211,
     "metadata": {},
     "output_type": "execute_result"
    }
   ],
   "source": [
    "firstname + lastname"
   ]
  },
  {
   "cell_type": "code",
   "execution_count": 212,
   "id": "d6d73f9f-5b35-4fec-8c37-c44e29757341",
   "metadata": {},
   "outputs": [
    {
     "data": {
      "text/plain": [
       "'John Doe'"
      ]
     },
     "execution_count": 212,
     "metadata": {},
     "output_type": "execute_result"
    }
   ],
   "source": [
    "firstname + \" \" + lastname"
   ]
  },
  {
   "cell_type": "markdown",
   "id": "0a99fbb8-87ef-472e-9ffb-2e1ab3ff611f",
   "metadata": {},
   "source": [
    "### STRING METHOD"
   ]
  },
  {
   "cell_type": "code",
   "execution_count": 213,
   "id": "ee571d20-ba13-4d50-8b59-9a9bb77e43bf",
   "metadata": {},
   "outputs": [
    {
     "data": {
      "text/plain": [
       "'John'"
      ]
     },
     "execution_count": 213,
     "metadata": {},
     "output_type": "execute_result"
    }
   ],
   "source": [
    "# Upper method would transform a string from the case to upper case\n",
    "firstname"
   ]
  },
  {
   "cell_type": "code",
   "execution_count": 214,
   "id": "af2046bb-b859-4ebc-98b4-693675de0429",
   "metadata": {},
   "outputs": [
    {
     "data": {
      "text/plain": [
       "'JOHN'"
      ]
     },
     "execution_count": 214,
     "metadata": {},
     "output_type": "execute_result"
    }
   ],
   "source": [
    "firstname.upper()"
   ]
  },
  {
   "cell_type": "code",
   "execution_count": 216,
   "id": "14f55d4e-8c67-4d35-a15b-1ddc05fe5020",
   "metadata": {},
   "outputs": [
    {
     "data": {
      "text/plain": [
       "'John'"
      ]
     },
     "execution_count": 216,
     "metadata": {},
     "output_type": "execute_result"
    }
   ],
   "source": [
    "firstname"
   ]
  },
  {
   "cell_type": "code",
   "execution_count": 217,
   "id": "5f402380-f137-491e-9601-9a23a2f25c64",
   "metadata": {},
   "outputs": [],
   "source": [
    "m = lastname.upper()"
   ]
  },
  {
   "cell_type": "code",
   "execution_count": 218,
   "id": "8494aa20-cb21-4695-81d2-139b1f36a979",
   "metadata": {},
   "outputs": [
    {
     "data": {
      "text/plain": [
       "'Doe'"
      ]
     },
     "execution_count": 218,
     "metadata": {},
     "output_type": "execute_result"
    }
   ],
   "source": [
    "lastname"
   ]
  },
  {
   "cell_type": "code",
   "execution_count": 219,
   "id": "b39d0367-1551-40a6-8162-a4e1c0795c28",
   "metadata": {},
   "outputs": [
    {
     "data": {
      "text/plain": [
       "'DOE'"
      ]
     },
     "execution_count": 219,
     "metadata": {},
     "output_type": "execute_result"
    }
   ],
   "source": [
    "m"
   ]
  },
  {
   "cell_type": "code",
   "execution_count": 220,
   "id": "75f5f4f4-9788-48e8-a6f4-9de3dc9a9266",
   "metadata": {},
   "outputs": [],
   "source": [
    "firstname = firstname.lower()"
   ]
  },
  {
   "cell_type": "code",
   "execution_count": 221,
   "id": "49240689-8f98-4ac4-8131-bb18e5e1faf7",
   "metadata": {},
   "outputs": [
    {
     "data": {
      "text/plain": [
       "'john'"
      ]
     },
     "execution_count": 221,
     "metadata": {},
     "output_type": "execute_result"
    }
   ],
   "source": [
    "firstname"
   ]
  },
  {
   "cell_type": "markdown",
   "id": "9262f6d3-a18a-49d5-b679-9cad19a4c096",
   "metadata": {},
   "source": [
    "### STRIP() METHOD"
   ]
  },
  {
   "cell_type": "code",
   "execution_count": 222,
   "id": "e2684829-63e1-4cbe-83d7-c8108ae25a82",
   "metadata": {},
   "outputs": [],
   "source": [
    "# Strip method to remove unwanted or unecessary empty spaces from a string\n",
    "myString = \"      This string contains unecessary       empty space   \""
   ]
  },
  {
   "cell_type": "code",
   "execution_count": 223,
   "id": "ddb84724-bdc4-45ea-b838-37225b612746",
   "metadata": {},
   "outputs": [
    {
     "data": {
      "text/plain": [
       "'      This string contains unecessary       empty space   '"
      ]
     },
     "execution_count": 223,
     "metadata": {},
     "output_type": "execute_result"
    }
   ],
   "source": [
    "myString"
   ]
  },
  {
   "cell_type": "code",
   "execution_count": 224,
   "id": "fec2fc8f-be92-4e35-9e0d-d23f2003cb75",
   "metadata": {},
   "outputs": [
    {
     "data": {
      "text/plain": [
       "'This string contains unecessary       empty space'"
      ]
     },
     "execution_count": 224,
     "metadata": {},
     "output_type": "execute_result"
    }
   ],
   "source": [
    "myString.strip()"
   ]
  },
  {
   "cell_type": "code",
   "execution_count": 225,
   "id": "b410461b-ae6d-44b5-aaef-ca25d6eb68bc",
   "metadata": {},
   "outputs": [],
   "source": [
    "# ' '.join(myString.strip())"
   ]
  },
  {
   "cell_type": "markdown",
   "id": "5e8d40ee-c511-42b8-a073-415c1f0442d2",
   "metadata": {},
   "source": [
    "### REPLACE()METHOD"
   ]
  },
  {
   "cell_type": "code",
   "execution_count": 228,
   "id": "7276441e-8456-48a4-841b-92d5f1b3d72b",
   "metadata": {},
   "outputs": [],
   "source": [
    "# Replace also known as a substitute\n",
    "footballTeam = \"I love Madrid football team\""
   ]
  },
  {
   "cell_type": "code",
   "execution_count": 229,
   "id": "d20176e8-cd00-42e8-a562-9f972681bc27",
   "metadata": {},
   "outputs": [
    {
     "data": {
      "text/plain": [
       "'I love Real Madrid football team'"
      ]
     },
     "execution_count": 229,
     "metadata": {},
     "output_type": "execute_result"
    }
   ],
   "source": [
    "footballTeam.replace(\"Madrid\", \"Real Madrid\")"
   ]
  },
  {
   "cell_type": "markdown",
   "id": "70546a23-f713-4a87-951c-94cd02fa636a",
   "metadata": {},
   "source": [
    "### SPLIT() METHOD"
   ]
  },
  {
   "cell_type": "code",
   "execution_count": 230,
   "id": "c3c96644-9ada-405a-85ac-fedb6a6c3949",
   "metadata": {},
   "outputs": [],
   "source": [
    "# split method splits a string usimg a conditiom e.g by hyphen e.t.c. The output is a list\n",
    "myString = \"This is a string\""
   ]
  },
  {
   "cell_type": "code",
   "execution_count": 231,
   "id": "478c1a1d-6aa3-4724-9dbd-c924652b73eb",
   "metadata": {},
   "outputs": [
    {
     "data": {
      "text/plain": [
       "['This', 'is', 'a', 'string']"
      ]
     },
     "execution_count": 231,
     "metadata": {},
     "output_type": "execute_result"
    }
   ],
   "source": [
    "myString.split(\" \")"
   ]
  },
  {
   "cell_type": "code",
   "execution_count": 232,
   "id": "13e8075f-fd8a-486d-a166-e4829f19fc6c",
   "metadata": {},
   "outputs": [],
   "source": [
    "stringTwo = \"Ajayi-Tobi\""
   ]
  },
  {
   "cell_type": "code",
   "execution_count": 233,
   "id": "6707d843-5cf0-44d1-bb01-d22cd0bcc9c2",
   "metadata": {},
   "outputs": [
    {
     "data": {
      "text/plain": [
       "['Ajayi', 'Tobi']"
      ]
     },
     "execution_count": 233,
     "metadata": {},
     "output_type": "execute_result"
    }
   ],
   "source": [
    "stringTwo.split(\"-\")"
   ]
  },
  {
   "cell_type": "code",
   "execution_count": 235,
   "id": "68a6a747-a14a-4a10-bc86-e442a53feb29",
   "metadata": {},
   "outputs": [
    {
     "name": "stdout",
     "output_type": "stream",
     "text": [
      "Collecting numpy\n",
      "  Downloading numpy-2.1.2-cp312-cp312-win_amd64.whl.metadata (59 kB)\n",
      "Downloading numpy-2.1.2-cp312-cp312-win_amd64.whl (12.6 MB)\n",
      "   ---------------------------------------- 0.0/12.6 MB ? eta -:--:--\n",
      "   ---------------------------------------- 0.0/12.6 MB ? eta -:--:--\n",
      "    --------------------------------------- 0.3/12.6 MB ? eta -:--:--\n",
      "    --------------------------------------- 0.3/12.6 MB ? eta -:--:--\n",
      "   -- ------------------------------------- 0.8/12.6 MB 2.0 MB/s eta 0:00:06\n",
      "   --- ------------------------------------ 1.0/12.6 MB 1.5 MB/s eta 0:00:08\n",
      "   ------ --------------------------------- 2.1/12.6 MB 2.6 MB/s eta 0:00:05\n",
      "   ---------- ----------------------------- 3.4/12.6 MB 3.0 MB/s eta 0:00:04\n",
      "   ---------------- ----------------------- 5.2/12.6 MB 3.8 MB/s eta 0:00:02\n",
      "   ---------------------- ----------------- 7.1/12.6 MB 4.6 MB/s eta 0:00:02\n",
      "   ----------------------------- ---------- 9.2/12.6 MB 5.1 MB/s eta 0:00:01\n",
      "   ----------------------------------- ---- 11.3/12.6 MB 5.6 MB/s eta 0:00:01\n",
      "   ---------------------------------------  12.3/12.6 MB 5.7 MB/s eta 0:00:01\n",
      "   ---------------------------------------- 12.6/12.6 MB 5.6 MB/s eta 0:00:00\n",
      "Installing collected packages: numpy\n",
      "Successfully installed numpy-2.1.2\n"
     ]
    }
   ],
   "source": [
    "!pip install numpy"
   ]
  },
  {
   "cell_type": "code",
   "execution_count": 237,
   "id": "66525f37-4b70-43ae-aea3-ef57e6dffcd9",
   "metadata": {},
   "outputs": [],
   "source": [
    "import numpy as np"
   ]
  },
  {
   "cell_type": "code",
   "execution_count": 238,
   "id": "03e5ba52-646a-444b-9773-47150d819c0c",
   "metadata": {},
   "outputs": [],
   "source": [
    "a = [1, 2, 5, 7, 9]"
   ]
  },
  {
   "cell_type": "markdown",
   "id": "ecb376e3-a12f-4434-8000-9acffce57665",
   "metadata": {},
   "source": [
    "### ARRAY() METHOD"
   ]
  },
  {
   "cell_type": "code",
   "execution_count": 244,
   "id": "73e0267b-796a-444f-85bd-cb2962ec9d19",
   "metadata": {},
   "outputs": [],
   "source": [
    "my_arr = np.array(a)"
   ]
  },
  {
   "cell_type": "code",
   "execution_count": 245,
   "id": "af12e538-e236-48e5-aa8d-886ade3242f6",
   "metadata": {},
   "outputs": [
    {
     "data": {
      "text/plain": [
       "array([1, 2, 5, 7, 9])"
      ]
     },
     "execution_count": 245,
     "metadata": {},
     "output_type": "execute_result"
    }
   ],
   "source": [
    "my_arr"
   ]
  },
  {
   "cell_type": "code",
   "execution_count": 246,
   "id": "eddc5e79-c9a2-41d5-bc7d-0d26d6cc24c3",
   "metadata": {},
   "outputs": [
    {
     "data": {
      "text/plain": [
       "numpy.ndarray"
      ]
     },
     "execution_count": 246,
     "metadata": {},
     "output_type": "execute_result"
    }
   ],
   "source": [
    "type(my_arr)"
   ]
  },
  {
   "cell_type": "code",
   "execution_count": 247,
   "id": "11025253-dd10-4f26-8eb5-9ac573e0b507",
   "metadata": {},
   "outputs": [
    {
     "data": {
      "text/plain": [
       "array(50)"
      ]
     },
     "execution_count": 247,
     "metadata": {},
     "output_type": "execute_result"
    }
   ],
   "source": [
    "# Creating a zero dimensional array\n",
    "arr = np.array(50)\n",
    "arr"
   ]
  },
  {
   "cell_type": "code",
   "execution_count": 257,
   "id": "fab81993-2a97-41a6-ad0c-57412948fd52",
   "metadata": {},
   "outputs": [
    {
     "data": {
      "text/plain": [
       "array([ 1,  2, 34])"
      ]
     },
     "execution_count": 257,
     "metadata": {},
     "output_type": "execute_result"
    }
   ],
   "source": [
    "# one dimensional array\n",
    "np.array([1,2,34])"
   ]
  },
  {
   "cell_type": "code",
   "execution_count": 258,
   "id": "4b5fc5e7-e671-444a-8f1f-cfe4ebae69ef",
   "metadata": {},
   "outputs": [
    {
     "data": {
      "text/plain": [
       "[[2, 4, 6, 9], [12, 23, 34, 10]]"
      ]
     },
     "execution_count": 258,
     "metadata": {},
     "output_type": "execute_result"
    }
   ],
   "source": [
    "[[2, 4, 6, 9], [12, 23, 34, 10]]"
   ]
  },
  {
   "cell_type": "code",
   "execution_count": 259,
   "id": "52226c74-decd-4880-a806-e1e4b9d6e491",
   "metadata": {},
   "outputs": [
    {
     "data": {
      "text/plain": [
       "array([[ 2,  4,  6,  9],\n",
       "       [12, 23, 34, 10]])"
      ]
     },
     "execution_count": 259,
     "metadata": {},
     "output_type": "execute_result"
    }
   ],
   "source": [
    "# 2D array\n",
    "np.array([[2, 4, 6, 9], [12, 23, 34, 10]])"
   ]
  },
  {
   "cell_type": "code",
   "execution_count": 260,
   "id": "55a5c6cd-601b-4c52-85b5-f88cec45a06f",
   "metadata": {},
   "outputs": [
    {
     "data": {
      "text/plain": [
       "2"
      ]
     },
     "execution_count": 260,
     "metadata": {},
     "output_type": "execute_result"
    }
   ],
   "source": [
    "# Check for array dimension\n",
    "np.array([[2, 4, 6, 9]]).ndim"
   ]
  },
  {
   "cell_type": "markdown",
   "id": "169317cc-550c-4100-a021-b897df6a7e5e",
   "metadata": {},
   "source": [
    "### Array indexing"
   ]
  },
  {
   "cell_type": "code",
   "execution_count": 261,
   "id": "801bbb87-960d-4c06-b7d6-9965a79a5bbb",
   "metadata": {},
   "outputs": [
    {
     "data": {
      "text/plain": [
       "np.int64(2)"
      ]
     },
     "execution_count": 261,
     "metadata": {},
     "output_type": "execute_result"
    }
   ],
   "source": [
    "my_arr[1]"
   ]
  },
  {
   "cell_type": "code",
   "execution_count": 262,
   "id": "80959bdf-eaeb-4981-a56b-60c4698c8b64",
   "metadata": {},
   "outputs": [
    {
     "data": {
      "text/plain": [
       "np.int64(9)"
      ]
     },
     "execution_count": 262,
     "metadata": {},
     "output_type": "execute_result"
    }
   ],
   "source": [
    "my_arr[-1]"
   ]
  },
  {
   "cell_type": "code",
   "execution_count": 263,
   "id": "6abaf8fe-9068-4d93-9489-6ae249d3d869",
   "metadata": {},
   "outputs": [
    {
     "data": {
      "text/plain": [
       "array([2, 5])"
      ]
     },
     "execution_count": 263,
     "metadata": {},
     "output_type": "execute_result"
    }
   ],
   "source": [
    "my_arr[1:3]"
   ]
  },
  {
   "cell_type": "code",
   "execution_count": 264,
   "id": "0f345b71-f672-4cde-a39b-bccf3725bf3e",
   "metadata": {},
   "outputs": [
    {
     "data": {
      "text/plain": [
       "np.int64(11)"
      ]
     },
     "execution_count": 264,
     "metadata": {},
     "output_type": "execute_result"
    }
   ],
   "source": [
    "my_arr[1] + my_arr[4]"
   ]
  },
  {
   "cell_type": "code",
   "execution_count": 269,
   "id": "69b65e75-b92b-44ab-92fe-7d942ba95887",
   "metadata": {},
   "outputs": [],
   "source": [
    "arr = np.array([[1,2,3,4,5], [6,7,8,9,10]])"
   ]
  },
  {
   "cell_type": "code",
   "execution_count": 270,
   "id": "ad4ec085-62e4-41cc-894f-b5b2b38069b9",
   "metadata": {},
   "outputs": [
    {
     "data": {
      "text/plain": [
       "array([1, 2, 3, 4, 5])"
      ]
     },
     "execution_count": 270,
     "metadata": {},
     "output_type": "execute_result"
    }
   ],
   "source": [
    "arr[0]"
   ]
  },
  {
   "cell_type": "code",
   "execution_count": 271,
   "id": "22e881b6-d181-425f-954f-4a17b8cf9b9b",
   "metadata": {},
   "outputs": [
    {
     "data": {
      "text/plain": [
       "np.int64(3)"
      ]
     },
     "execution_count": 271,
     "metadata": {},
     "output_type": "execute_result"
    }
   ],
   "source": [
    "arr[0, 2]"
   ]
  },
  {
   "cell_type": "code",
   "execution_count": 272,
   "id": "5f5ba042-6a49-41f1-aa4a-4d973ac991be",
   "metadata": {},
   "outputs": [
    {
     "data": {
      "text/plain": [
       "np.int64(9)"
      ]
     },
     "execution_count": 272,
     "metadata": {},
     "output_type": "execute_result"
    }
   ],
   "source": [
    "arr[1, 3]"
   ]
  },
  {
   "cell_type": "code",
   "execution_count": 273,
   "id": "f8d18196-cf4f-4dc8-b54c-3be1d18f7129",
   "metadata": {},
   "outputs": [],
   "source": [
    "#3D Array\n",
    "arr = np.array([[[1, 2, 3], [4, 5, 6]], [[7, 8, 9], [10, 11, 12]]])\n"
   ]
  },
  {
   "cell_type": "code",
   "execution_count": 274,
   "id": "609b2d49-8551-48d0-92d2-6656f3b2b3ea",
   "metadata": {},
   "outputs": [
    {
     "data": {
      "text/plain": [
       "array([[[ 1,  2,  3],\n",
       "        [ 4,  5,  6]],\n",
       "\n",
       "       [[ 7,  8,  9],\n",
       "        [10, 11, 12]]])"
      ]
     },
     "execution_count": 274,
     "metadata": {},
     "output_type": "execute_result"
    }
   ],
   "source": [
    "arr"
   ]
  },
  {
   "cell_type": "code",
   "execution_count": 291,
   "id": "eb51e37e-aced-4442-82a1-1e92801b6628",
   "metadata": {},
   "outputs": [],
   "source": [
    "arr= np.array([[[1, 2, 3], [4, 5, 6]], [[1, 2, 3], [4, 5, 6]]]) "
   ]
  },
  {
   "cell_type": "code",
   "execution_count": 292,
   "id": "b7059fb6-29b4-49c4-8873-a462e5dea5d3",
   "metadata": {},
   "outputs": [
    {
     "data": {
      "text/plain": [
       "array([[[1, 2, 3],\n",
       "        [4, 5, 6]],\n",
       "\n",
       "       [[1, 2, 3],\n",
       "        [4, 5, 6]]])"
      ]
     },
     "execution_count": 292,
     "metadata": {},
     "output_type": "execute_result"
    }
   ],
   "source": [
    "arr"
   ]
  },
  {
   "cell_type": "code",
   "execution_count": 293,
   "id": "682489c9-af86-46d0-8194-d146ee1fba99",
   "metadata": {},
   "outputs": [
    {
     "data": {
      "text/plain": [
       "np.int64(5)"
      ]
     },
     "execution_count": 293,
     "metadata": {},
     "output_type": "execute_result"
    }
   ],
   "source": [
    "arr[0,1,1]"
   ]
  },
  {
   "cell_type": "code",
   "execution_count": 294,
   "id": "e4b906bc-6d9a-402e-9b7f-07ed1cd6af1b",
   "metadata": {},
   "outputs": [
    {
     "data": {
      "text/plain": [
       "np.int64(3)"
      ]
     },
     "execution_count": 294,
     "metadata": {},
     "output_type": "execute_result"
    }
   ],
   "source": [
    "arr[1,0,2]"
   ]
  },
  {
   "cell_type": "markdown",
   "id": "e50046fb-fcbb-4a22-a7e0-5612626b290d",
   "metadata": {},
   "source": [
    "### SHAPE"
   ]
  },
  {
   "cell_type": "code",
   "execution_count": 295,
   "id": "864e041b-5b8b-4613-a3b3-8b93af03c251",
   "metadata": {},
   "outputs": [
    {
     "data": {
      "text/plain": [
       "(2, 2, 3)"
      ]
     },
     "execution_count": 295,
     "metadata": {},
     "output_type": "execute_result"
    }
   ],
   "source": [
    "arr.shape"
   ]
  },
  {
   "cell_type": "code",
   "execution_count": 296,
   "id": "af5c7678-3f12-438b-af4a-921150fad805",
   "metadata": {},
   "outputs": [
    {
     "data": {
      "text/plain": [
       "array([[ 1,  2,  3,  4,  5],\n",
       "       [ 6,  7,  8,  9, 10]])"
      ]
     },
     "execution_count": 296,
     "metadata": {},
     "output_type": "execute_result"
    }
   ],
   "source": [
    "arr = np.array([[1,2,3,4,5], [6,7,8,9,10]])\n",
    "arr"
   ]
  },
  {
   "cell_type": "code",
   "execution_count": 297,
   "id": "56f6af5c-b12b-47f8-ae95-262b49490865",
   "metadata": {},
   "outputs": [
    {
     "data": {
      "text/plain": [
       "(2, 5)"
      ]
     },
     "execution_count": 297,
     "metadata": {},
     "output_type": "execute_result"
    }
   ],
   "source": [
    "arr.shape"
   ]
  },
  {
   "cell_type": "markdown",
   "id": "121ef84a-364b-4c9a-9e12-c93cbe2f3361",
   "metadata": {},
   "source": [
    "### RESHAPE METHOD"
   ]
  },
  {
   "cell_type": "code",
   "execution_count": 306,
   "id": "53a24254-cb5d-4c8b-b459-25cc75c040ed",
   "metadata": {},
   "outputs": [
    {
     "data": {
      "text/plain": [
       "array([[ 1,  2,  3,  4,  5],\n",
       "       [ 6,  7,  8,  9, 10]])"
      ]
     },
     "execution_count": 306,
     "metadata": {},
     "output_type": "execute_result"
    }
   ],
   "source": [
    "arr.reshape(2,5)"
   ]
  },
  {
   "cell_type": "code",
   "execution_count": 307,
   "id": "e7977c2a-df3a-400a-988b-f8a44301e603",
   "metadata": {},
   "outputs": [
    {
     "data": {
      "text/plain": [
       "array([[ 1,  2],\n",
       "       [ 3,  4],\n",
       "       [ 5,  6],\n",
       "       [ 7,  8],\n",
       "       [ 9, 10]])"
      ]
     },
     "execution_count": 307,
     "metadata": {},
     "output_type": "execute_result"
    }
   ],
   "source": [
    "arr.reshape(5,2)"
   ]
  },
  {
   "cell_type": "code",
   "execution_count": 308,
   "id": "7cc526cd-794f-4511-a0ae-062f489bc959",
   "metadata": {},
   "outputs": [
    {
     "data": {
      "text/plain": [
       "array([[ 1,  2,  3,  4,  5,  6,  7,  8,  9, 10]])"
      ]
     },
     "execution_count": 308,
     "metadata": {},
     "output_type": "execute_result"
    }
   ],
   "source": [
    "arr.reshape(1,10)"
   ]
  },
  {
   "cell_type": "code",
   "execution_count": 309,
   "id": "2e354263-8d90-42c2-ab58-30ed61e8cf43",
   "metadata": {},
   "outputs": [
    {
     "data": {
      "text/plain": [
       "array([[ 1],\n",
       "       [ 2],\n",
       "       [ 3],\n",
       "       [ 4],\n",
       "       [ 5],\n",
       "       [ 6],\n",
       "       [ 7],\n",
       "       [ 8],\n",
       "       [ 9],\n",
       "       [10]])"
      ]
     },
     "execution_count": 309,
     "metadata": {},
     "output_type": "execute_result"
    }
   ],
   "source": [
    "arr.reshape(10,1)"
   ]
  },
  {
   "cell_type": "code",
   "execution_count": 310,
   "id": "e6b33c1b-4583-4dd8-a749-26f61174c50b",
   "metadata": {},
   "outputs": [
    {
     "name": "stdout",
     "output_type": "stream",
     "text": [
      "[1 2]\n"
     ]
    }
   ],
   "source": [
    "arr = np.array([1,2,3,4,5,6,7])\n",
    "print(arr[:2])"
   ]
  },
  {
   "cell_type": "markdown",
   "id": "f3c38623-5f73-44bc-9796-cfdd2f941e75",
   "metadata": {},
   "source": [
    "## QUESTIONS\n",
    "* Create a 1-D numpy array with elements from 1-6\n",
    "* Create a 2-D numpy array with shape of (3, 3)\n",
    "* Given `arr= np.array(10, 20, 30, 40)`. Retrieve the third item/elememt. Retrieve the last element\n",
    "* Given `arr_two = np.array([[1,2,3], [4,5,6], [7,8,9]])`.  Retrieve the element in the second row, third column. Retrieve the entire first row\n",
    "* Reshape the 1D array created in question one into another dimension\n",
    "* Reshape the 2D array created in question two into another dimension"
   ]
  },
  {
   "cell_type": "code",
   "execution_count": 353,
   "id": "6c6bffb2-992a-4fe6-be78-3f31eb532fac",
   "metadata": {},
   "outputs": [],
   "source": [
    "#1 Create a 1-D numpy array with elements from 1-6\n",
    "arr = np.array([1,2,3,4,5,6,])"
   ]
  },
  {
   "cell_type": "code",
   "execution_count": 354,
   "id": "a00291cd-bd6f-429e-a9e2-9538f0cb0dc4",
   "metadata": {},
   "outputs": [
    {
     "data": {
      "text/plain": [
       "array([1, 2, 3, 4, 5, 6])"
      ]
     },
     "execution_count": 354,
     "metadata": {},
     "output_type": "execute_result"
    }
   ],
   "source": [
    "arr"
   ]
  },
  {
   "cell_type": "code",
   "execution_count": 356,
   "id": "86f103b2-c5a2-46a8-aefa-43642732e670",
   "metadata": {},
   "outputs": [
    {
     "data": {
      "text/plain": [
       "array([[1, 2, 3],\n",
       "       [4, 5, 6]])"
      ]
     },
     "execution_count": 356,
     "metadata": {},
     "output_type": "execute_result"
    }
   ],
   "source": [
    "#5 Reshape the 1D array created in question one into another dimension\n",
    "arr.reshape(2, 3)"
   ]
  },
  {
   "cell_type": "code",
   "execution_count": 362,
   "id": "61cc1866-a9fe-407a-b313-257296042591",
   "metadata": {},
   "outputs": [
    {
     "data": {
      "text/plain": [
       "array([[1, 2, 3],\n",
       "       [4, 5, 6],\n",
       "       [7, 8, 9]])"
      ]
     },
     "execution_count": 362,
     "metadata": {},
     "output_type": "execute_result"
    }
   ],
   "source": [
    "#2Create a 2-D numpy array with shape of (3, 3)\n",
    "arr = np.array([[1,2,3], [4,5,6], [7,8,9]])\n",
    "arr"
   ]
  },
  {
   "cell_type": "code",
   "execution_count": 368,
   "id": "d5674651-d2bc-45bf-9e68-799de955f37e",
   "metadata": {},
   "outputs": [
    {
     "data": {
      "text/plain": [
       "array([[1, 2, 3, 4, 5, 6, 7, 8, 9]])"
      ]
     },
     "execution_count": 368,
     "metadata": {},
     "output_type": "execute_result"
    }
   ],
   "source": [
    "#6 Reshape the 2D array created in question two into another dimension\n",
    "arr.reshape(1, 9)"
   ]
  },
  {
   "cell_type": "code",
   "execution_count": 336,
   "id": "e443368f-2590-4cce-9b84-465f8aab2cbe",
   "metadata": {},
   "outputs": [
    {
     "data": {
      "text/plain": [
       "(3, 3)"
      ]
     },
     "execution_count": 336,
     "metadata": {},
     "output_type": "execute_result"
    }
   ],
   "source": [
    "arr.shape"
   ]
  },
  {
   "cell_type": "code",
   "execution_count": 339,
   "id": "6327b281-5251-4bb2-a386-7ebd4e71b95d",
   "metadata": {},
   "outputs": [],
   "source": [
    "#3 Given arr= np.array(10, 20, 30, 40). Retrieve the third item/elememt. Retrieve the last element\n",
    "arr = np.array([10, 20, 30, 40])"
   ]
  },
  {
   "cell_type": "code",
   "execution_count": 340,
   "id": "db504194-848f-4955-a64f-1bfa9e669a3f",
   "metadata": {},
   "outputs": [
    {
     "data": {
      "text/plain": [
       "np.int64(30)"
      ]
     },
     "execution_count": 340,
     "metadata": {},
     "output_type": "execute_result"
    }
   ],
   "source": [
    "arr[2]"
   ]
  },
  {
   "cell_type": "code",
   "execution_count": 341,
   "id": "32ca790e-0d13-4d8c-acb9-f86555aa6c90",
   "metadata": {},
   "outputs": [
    {
     "data": {
      "text/plain": [
       "np.int64(40)"
      ]
     },
     "execution_count": 341,
     "metadata": {},
     "output_type": "execute_result"
    }
   ],
   "source": [
    "arr[3]"
   ]
  },
  {
   "cell_type": "code",
   "execution_count": 348,
   "id": "cb9fc0a1-38d9-4315-aae5-db68d057d202",
   "metadata": {},
   "outputs": [],
   "source": [
    "#4 Given arr_two = np.array([[1,2,3], [4,5,6], [7,8,9]]). Retrieve the element in the second row, third column. Retrieve the entire first row\n",
    "arr_two = np.array([[1,2,3], [4,5,6], [7,8,9]])"
   ]
  },
  {
   "cell_type": "code",
   "execution_count": 349,
   "id": "840a41e1-63cc-4771-89e2-791d8a2593f8",
   "metadata": {},
   "outputs": [
    {
     "data": {
      "text/plain": [
       "np.int64(6)"
      ]
     },
     "execution_count": 349,
     "metadata": {},
     "output_type": "execute_result"
    }
   ],
   "source": [
    "arr_two[1, 2]"
   ]
  },
  {
   "cell_type": "code",
   "execution_count": 350,
   "id": "ecba6d71-e485-4dfc-9e7d-adf90ab2bc55",
   "metadata": {},
   "outputs": [
    {
     "data": {
      "text/plain": [
       "array([1, 2, 3])"
      ]
     },
     "execution_count": 350,
     "metadata": {},
     "output_type": "execute_result"
    }
   ],
   "source": [
    "arr_two[0]"
   ]
  },
  {
   "cell_type": "code",
   "execution_count": 369,
   "id": "50c6dce2-a4aa-463e-90bd-ab8966cadf7d",
   "metadata": {},
   "outputs": [],
   "source": [
    "# Arithmetic operations on arrays\n",
    "a = np.array([2, 3, 5, 8])\n",
    "b = np.array([1, 9, 5, 10])"
   ]
  },
  {
   "cell_type": "code",
   "execution_count": 370,
   "id": "4f94b11a-3a7f-4328-b36a-ceec7e806d2c",
   "metadata": {},
   "outputs": [
    {
     "name": "stdout",
     "output_type": "stream",
     "text": [
      "(4,)\n",
      "(4,)\n"
     ]
    }
   ],
   "source": [
    "print(a.shape)\n",
    "print(b.shape)"
   ]
  },
  {
   "cell_type": "code",
   "execution_count": 371,
   "id": "7fc4be5f-a81b-46ae-a477-80d70cd97e99",
   "metadata": {},
   "outputs": [
    {
     "name": "stdout",
     "output_type": "stream",
     "text": [
      "[2 3 5 8]\n",
      "[ 1  9  5 10]\n"
     ]
    }
   ],
   "source": [
    "print(a)\n",
    "print(b)"
   ]
  },
  {
   "cell_type": "code",
   "execution_count": 372,
   "id": "66403111-b2c9-41bb-9561-41a818c0669e",
   "metadata": {},
   "outputs": [
    {
     "data": {
      "text/plain": [
       "array([ 3, 12, 10, 18])"
      ]
     },
     "execution_count": 372,
     "metadata": {},
     "output_type": "execute_result"
    }
   ],
   "source": [
    "a + b"
   ]
  },
  {
   "cell_type": "code",
   "execution_count": 373,
   "id": "183ea0e6-926c-4ac5-a928-6e7dda98819b",
   "metadata": {},
   "outputs": [
    {
     "data": {
      "text/plain": [
       "array([ 2, 27, 25, 80])"
      ]
     },
     "execution_count": 373,
     "metadata": {},
     "output_type": "execute_result"
    }
   ],
   "source": [
    "a * b"
   ]
  },
  {
   "cell_type": "code",
   "execution_count": 374,
   "id": "03e686b3-6728-4b98-823d-220066dc2e6b",
   "metadata": {},
   "outputs": [
    {
     "data": {
      "text/plain": [
       "array([2.        , 0.33333333, 1.        , 0.8       ])"
      ]
     },
     "execution_count": 374,
     "metadata": {},
     "output_type": "execute_result"
    }
   ],
   "source": [
    "a / b"
   ]
  },
  {
   "cell_type": "markdown",
   "id": "06d8d47f-5f4b-43a9-98fb-c74ad931137b",
   "metadata": {},
   "source": [
    "### ADD METHOD"
   ]
  },
  {
   "cell_type": "code",
   "execution_count": 375,
   "id": "5033fd25-7ec9-43d7-8193-46eb57369f15",
   "metadata": {},
   "outputs": [
    {
     "data": {
      "text/plain": [
       "array([ 3, 12, 10, 18])"
      ]
     },
     "execution_count": 375,
     "metadata": {},
     "output_type": "execute_result"
    }
   ],
   "source": [
    "# a + b\n",
    "np.add(a, b)"
   ]
  },
  {
   "cell_type": "markdown",
   "id": "c603b520-251b-4f17-8024-ad6aed6246e2",
   "metadata": {},
   "source": [
    "### SUBTRACT()METHOD"
   ]
  },
  {
   "cell_type": "code",
   "execution_count": 376,
   "id": "6a4d3800-fbf1-4992-b736-6bfb84652c42",
   "metadata": {},
   "outputs": [
    {
     "data": {
      "text/plain": [
       "array([ 1, -6,  0, -2])"
      ]
     },
     "execution_count": 376,
     "metadata": {},
     "output_type": "execute_result"
    }
   ],
   "source": [
    "# a - b\n",
    "np.subtract(a, b)"
   ]
  },
  {
   "cell_type": "markdown",
   "id": "e4352419-0248-40bd-98b8-ac5ccfd967e6",
   "metadata": {},
   "source": [
    "### MULTIPLY()METHOD"
   ]
  },
  {
   "cell_type": "code",
   "execution_count": 377,
   "id": "6f96b207-f210-40aa-aac5-c8eddd0a6908",
   "metadata": {},
   "outputs": [
    {
     "data": {
      "text/plain": [
       "array([ 2, 27, 25, 80])"
      ]
     },
     "execution_count": 377,
     "metadata": {},
     "output_type": "execute_result"
    }
   ],
   "source": [
    "# a * b\n",
    "np.multiply(a, b)"
   ]
  },
  {
   "cell_type": "markdown",
   "id": "7ee41289-b25d-4349-bfad-2e455bcf74ee",
   "metadata": {},
   "source": [
    "### PROD()METHOD"
   ]
  },
  {
   "cell_type": "code",
   "execution_count": 378,
   "id": "9643d8f3-3722-406d-9f74-9c658c8a3c2b",
   "metadata": {},
   "outputs": [
    {
     "data": {
      "text/plain": [
       "array([2, 3, 5, 8])"
      ]
     },
     "execution_count": 378,
     "metadata": {},
     "output_type": "execute_result"
    }
   ],
   "source": [
    "a"
   ]
  },
  {
   "cell_type": "code",
   "execution_count": 379,
   "id": "a3b284b9-3419-4a5b-84e8-0d6e0552752c",
   "metadata": {},
   "outputs": [
    {
     "data": {
      "text/plain": [
       "np.int64(240)"
      ]
     },
     "execution_count": 379,
     "metadata": {},
     "output_type": "execute_result"
    }
   ],
   "source": [
    "# Dot product\n",
    "np.prod(a)"
   ]
  },
  {
   "cell_type": "markdown",
   "id": "1efe4ed2-ff6b-45a4-b634-77f2a2b9daa9",
   "metadata": {},
   "source": [
    "### MAX()METHOD"
   ]
  },
  {
   "cell_type": "code",
   "execution_count": 380,
   "id": "35a59f9e-9f65-44c6-8c80-738999f7ac37",
   "metadata": {},
   "outputs": [
    {
     "data": {
      "text/plain": [
       "array([2, 3, 5, 8])"
      ]
     },
     "execution_count": 380,
     "metadata": {},
     "output_type": "execute_result"
    }
   ],
   "source": [
    "a"
   ]
  },
  {
   "cell_type": "code",
   "execution_count": 381,
   "id": "ae203cdb-643e-41cc-995e-c2e9adbcb3dc",
   "metadata": {},
   "outputs": [
    {
     "data": {
      "text/plain": [
       "np.int64(8)"
      ]
     },
     "execution_count": 381,
     "metadata": {},
     "output_type": "execute_result"
    }
   ],
   "source": [
    "#find the maximum value of an array\n",
    "np.max(a)"
   ]
  },
  {
   "cell_type": "markdown",
   "id": "2392eaa0-2f17-4775-8eed-d62dec8805cc",
   "metadata": {},
   "source": [
    "### MIN()METHOD"
   ]
  },
  {
   "cell_type": "code",
   "execution_count": 382,
   "id": "d212a3f6-7845-405a-aaf0-e0af2fa7e043",
   "metadata": {},
   "outputs": [
    {
     "data": {
      "text/plain": [
       "array([2, 3, 5, 8])"
      ]
     },
     "execution_count": 382,
     "metadata": {},
     "output_type": "execute_result"
    }
   ],
   "source": [
    "a"
   ]
  },
  {
   "cell_type": "code",
   "execution_count": 383,
   "id": "939ab980-889b-48ee-987d-71afcbc53975",
   "metadata": {},
   "outputs": [
    {
     "data": {
      "text/plain": [
       "np.int64(2)"
      ]
     },
     "execution_count": 383,
     "metadata": {},
     "output_type": "execute_result"
    }
   ],
   "source": [
    "#find the minimum value of an array\n",
    "np.min(a)"
   ]
  },
  {
   "cell_type": "markdown",
   "id": "d4bc00e4-9e6a-467c-9507-f125acf4e52c",
   "metadata": {},
   "source": [
    "### MEAN()METHOD"
   ]
  },
  {
   "cell_type": "code",
   "execution_count": 384,
   "id": "63516fed-2d19-4a85-a2fb-cfa036c3ce34",
   "metadata": {},
   "outputs": [
    {
     "data": {
      "text/plain": [
       "np.float64(4.5)"
      ]
     },
     "execution_count": 384,
     "metadata": {},
     "output_type": "execute_result"
    }
   ],
   "source": [
    "#find the average/mean value of an array\n",
    "np.mean(a)"
   ]
  },
  {
   "cell_type": "markdown",
   "id": "089c0aa5-6e9e-451d-af1b-6d0f0e1b3f47",
   "metadata": {},
   "source": [
    "### MEDIAN()METHOD"
   ]
  },
  {
   "cell_type": "code",
   "execution_count": 385,
   "id": "55840bd6-33fd-4c77-b125-f5c62f506535",
   "metadata": {},
   "outputs": [
    {
     "data": {
      "text/plain": [
       "np.float64(4.0)"
      ]
     },
     "execution_count": 385,
     "metadata": {},
     "output_type": "execute_result"
    }
   ],
   "source": [
    "np.median(a)"
   ]
  },
  {
   "cell_type": "code",
   "execution_count": null,
   "id": "1956b4c4-cef9-41c6-b30e-21543f6e80c3",
   "metadata": {},
   "outputs": [],
   "source": []
  },
  {
   "cell_type": "markdown",
   "id": "caf10914-d8f6-4da9-a63e-ebb9039f73b0",
   "metadata": {},
   "source": [
    "### PANDA"
   ]
  },
  {
   "cell_type": "code",
   "execution_count": 402,
   "id": "a1500752-0af6-46c5-ba3d-5234ac72109e",
   "metadata": {},
   "outputs": [
    {
     "name": "stdout",
     "output_type": "stream",
     "text": [
      "Requirement already satisfied: panda in c:\\users\\hp\\miniconda3\\lib\\site-packages (0.3.1)\n",
      "Requirement already satisfied: setuptools in c:\\users\\hp\\miniconda3\\lib\\site-packages (from panda) (72.1.0)\n",
      "Requirement already satisfied: requests in c:\\users\\hp\\miniconda3\\lib\\site-packages (from panda) (2.32.3)\n",
      "Requirement already satisfied: charset-normalizer<4,>=2 in c:\\users\\hp\\miniconda3\\lib\\site-packages (from requests->panda) (3.3.2)\n",
      "Requirement already satisfied: idna<4,>=2.5 in c:\\users\\hp\\miniconda3\\lib\\site-packages (from requests->panda) (3.7)\n",
      "Requirement already satisfied: urllib3<3,>=1.21.1 in c:\\users\\hp\\miniconda3\\lib\\site-packages (from requests->panda) (2.2.2)\n",
      "Requirement already satisfied: certifi>=2017.4.17 in c:\\users\\hp\\miniconda3\\lib\\site-packages (from requests->panda) (2024.7.4)\n"
     ]
    }
   ],
   "source": [
    "!pip install panda"
   ]
  },
  {
   "cell_type": "code",
   "execution_count": 403,
   "id": "79069204-6211-43de-bb35-9c8ec2b4589a",
   "metadata": {},
   "outputs": [],
   "source": [
    "import pandas as pd"
   ]
  },
  {
   "cell_type": "markdown",
   "id": "5abef474-f25e-4fca-ba80-046d46374795",
   "metadata": {},
   "source": [
    "### SERIES METHOD"
   ]
  },
  {
   "cell_type": "code",
   "execution_count": 405,
   "id": "f6258c54-6444-407b-be7a-e31ac1292b01",
   "metadata": {},
   "outputs": [],
   "source": [
    "a = [1, 20, 23, 50]"
   ]
  },
  {
   "cell_type": "code",
   "execution_count": 407,
   "id": "196771bd-dff2-4ff0-85c0-722b23436664",
   "metadata": {},
   "outputs": [
    {
     "data": {
      "text/plain": [
       "0     1\n",
       "1    20\n",
       "2    23\n",
       "3    50\n",
       "dtype: int64"
      ]
     },
     "execution_count": 407,
     "metadata": {},
     "output_type": "execute_result"
    }
   ],
   "source": [
    "mySeries = pd.Series(a)\n",
    "mySeries"
   ]
  },
  {
   "cell_type": "code",
   "execution_count": 408,
   "id": "106999f8-1d1c-4cdd-81b4-e8d113ac6409",
   "metadata": {},
   "outputs": [
    {
     "data": {
      "text/plain": [
       "np.int64(20)"
      ]
     },
     "execution_count": 408,
     "metadata": {},
     "output_type": "execute_result"
    }
   ],
   "source": [
    "mySeries[1]"
   ]
  },
  {
   "cell_type": "code",
   "execution_count": 409,
   "id": "d2424839-0fb4-4931-82e1-968865cc5896",
   "metadata": {},
   "outputs": [],
   "source": [
    "mySeriesTwo = pd.Series(a, index= [ \"a\", \"b\", \"c\", \"d\"])"
   ]
  },
  {
   "cell_type": "code",
   "execution_count": 410,
   "id": "490e6866-4df9-461f-ba2d-2edb0324706f",
   "metadata": {},
   "outputs": [
    {
     "data": {
      "text/plain": [
       "a     1\n",
       "b    20\n",
       "c    23\n",
       "d    50\n",
       "dtype: int64"
      ]
     },
     "execution_count": 410,
     "metadata": {},
     "output_type": "execute_result"
    }
   ],
   "source": [
    "mySeriesTwo"
   ]
  },
  {
   "cell_type": "code",
   "execution_count": 411,
   "id": "b9f965d1-8a75-47f4-8ead-4c3822e3c741",
   "metadata": {},
   "outputs": [
    {
     "data": {
      "text/plain": [
       "np.int64(1)"
      ]
     },
     "execution_count": 411,
     "metadata": {},
     "output_type": "execute_result"
    }
   ],
   "source": [
    "mySeriesTwo['a']"
   ]
  },
  {
   "cell_type": "code",
   "execution_count": 412,
   "id": "7f898e28-08a1-40d5-b796-a35be30dce65",
   "metadata": {},
   "outputs": [
    {
     "data": {
      "text/plain": [
       "{'Name': 'John', 'Age': 17, 'State': 'Rivers'}"
      ]
     },
     "execution_count": 412,
     "metadata": {},
     "output_type": "execute_result"
    }
   ],
   "source": [
    "# How to creat a Panda series from a dictionary\n",
    "myDict = {'Name' : 'John', 'Age' : 17, 'State' : 'Rivers'}\n",
    "myDict\n"
   ]
  },
  {
   "cell_type": "code",
   "execution_count": 414,
   "id": "5190b221-a903-4972-9766-7cb428ba6708",
   "metadata": {},
   "outputs": [],
   "source": [
    "mySeriesThree = pd.Series(myDict)"
   ]
  },
  {
   "cell_type": "code",
   "execution_count": 415,
   "id": "16da7f0a-4012-4c9d-9562-c6a254cf26c7",
   "metadata": {},
   "outputs": [
    {
     "data": {
      "text/plain": [
       "Name       John\n",
       "Age          17\n",
       "State    Rivers\n",
       "dtype: object"
      ]
     },
     "execution_count": 415,
     "metadata": {},
     "output_type": "execute_result"
    }
   ],
   "source": [
    "mySeriesThree"
   ]
  },
  {
   "cell_type": "code",
   "execution_count": 416,
   "id": "0c8b9e60-dd4b-4f89-91ce-1af8a3dd570b",
   "metadata": {},
   "outputs": [
    {
     "data": {
      "text/plain": [
       "'John'"
      ]
     },
     "execution_count": 416,
     "metadata": {},
     "output_type": "execute_result"
    }
   ],
   "source": [
    "mySeriesThree['Name']"
   ]
  },
  {
   "cell_type": "code",
   "execution_count": 417,
   "id": "8373496e-b409-4796-b1ea-37d45a09b25b",
   "metadata": {},
   "outputs": [],
   "source": [
    "# Dataframe\n",
    "exercise = {\n",
    "    \"calories\": [100, 150, 200, 250],\n",
    "    \"minutes\": [30, 45, 200, 70]\n",
    "}"
   ]
  },
  {
   "cell_type": "code",
   "execution_count": 418,
   "id": "16821c6d-e7bf-41c7-95aa-0c885a52f0f9",
   "metadata": {},
   "outputs": [
    {
     "data": {
      "text/plain": [
       "{'calories': [100, 150, 200, 250], 'minutes': [30, 45, 200, 70]}"
      ]
     },
     "execution_count": 418,
     "metadata": {},
     "output_type": "execute_result"
    }
   ],
   "source": [
    "exercise"
   ]
  },
  {
   "cell_type": "code",
   "execution_count": 419,
   "id": "6fdfc203-c034-4711-8a2f-14c249b2c69f",
   "metadata": {},
   "outputs": [],
   "source": [
    "df = pd.DataFrame(exercise)\n"
   ]
  },
  {
   "cell_type": "code",
   "execution_count": 420,
   "id": "a5a162d8-acd2-4644-bae0-d539df51e7de",
   "metadata": {},
   "outputs": [
    {
     "data": {
      "text/html": [
       "<div>\n",
       "<style scoped>\n",
       "    .dataframe tbody tr th:only-of-type {\n",
       "        vertical-align: middle;\n",
       "    }\n",
       "\n",
       "    .dataframe tbody tr th {\n",
       "        vertical-align: top;\n",
       "    }\n",
       "\n",
       "    .dataframe thead th {\n",
       "        text-align: right;\n",
       "    }\n",
       "</style>\n",
       "<table border=\"1\" class=\"dataframe\">\n",
       "  <thead>\n",
       "    <tr style=\"text-align: right;\">\n",
       "      <th></th>\n",
       "      <th>calories</th>\n",
       "      <th>minutes</th>\n",
       "    </tr>\n",
       "  </thead>\n",
       "  <tbody>\n",
       "    <tr>\n",
       "      <th>0</th>\n",
       "      <td>100</td>\n",
       "      <td>30</td>\n",
       "    </tr>\n",
       "    <tr>\n",
       "      <th>1</th>\n",
       "      <td>150</td>\n",
       "      <td>45</td>\n",
       "    </tr>\n",
       "    <tr>\n",
       "      <th>2</th>\n",
       "      <td>200</td>\n",
       "      <td>200</td>\n",
       "    </tr>\n",
       "    <tr>\n",
       "      <th>3</th>\n",
       "      <td>250</td>\n",
       "      <td>70</td>\n",
       "    </tr>\n",
       "  </tbody>\n",
       "</table>\n",
       "</div>"
      ],
      "text/plain": [
       "   calories  minutes\n",
       "0       100       30\n",
       "1       150       45\n",
       "2       200      200\n",
       "3       250       70"
      ]
     },
     "execution_count": 420,
     "metadata": {},
     "output_type": "execute_result"
    }
   ],
   "source": [
    "df"
   ]
  },
  {
   "cell_type": "code",
   "execution_count": 422,
   "id": "12ff678f-8438-445d-bc71-abc7bd06d8ee",
   "metadata": {},
   "outputs": [
    {
     "data": {
      "text/plain": [
       "0    100\n",
       "1    150\n",
       "2    200\n",
       "3    250\n",
       "Name: calories, dtype: int64"
      ]
     },
     "execution_count": 422,
     "metadata": {},
     "output_type": "execute_result"
    }
   ],
   "source": [
    "# Fetch all values under calories\n",
    "df['calories']"
   ]
  },
  {
   "cell_type": "code",
   "execution_count": 423,
   "id": "a073e153-461a-46eb-a4ef-2d8cbdbb584c",
   "metadata": {},
   "outputs": [
    {
     "data": {
      "text/plain": [
       "0    100\n",
       "1    150\n",
       "2    200\n",
       "3    250\n",
       "Name: calories, dtype: int64"
      ]
     },
     "execution_count": 423,
     "metadata": {},
     "output_type": "execute_result"
    }
   ],
   "source": [
    "df.calories"
   ]
  },
  {
   "cell_type": "code",
   "execution_count": 424,
   "id": "5fa082db-938e-4ab6-b427-95a60738a222",
   "metadata": {},
   "outputs": [],
   "source": [
    "# df[0]"
   ]
  },
  {
   "cell_type": "code",
   "execution_count": 425,
   "id": "96f33cb7-708f-47f7-96db-be2ef43c04ad",
   "metadata": {},
   "outputs": [
    {
     "data": {
      "text/plain": [
       "calories    100\n",
       "minutes      30\n",
       "Name: 0, dtype: int64"
      ]
     },
     "execution_count": 425,
     "metadata": {},
     "output_type": "execute_result"
    }
   ],
   "source": [
    "df.loc[0]"
   ]
  },
  {
   "cell_type": "code",
   "execution_count": 427,
   "id": "e54bd6d3-897c-46fa-bb34-d20c789d29a3",
   "metadata": {},
   "outputs": [],
   "source": [
    "details = {\n",
    "    \"firstName\" : [\"John\", \"Dayo\", \"Chika\"],\n",
    "    \"lastName\" : [\"Johnson\", \"Seyi\", \"Kingsley\"],\n",
    "    \"Age\" : [25, 32, 19],\n",
    "    \"Department\" : [\"Sales\", \"IT\", \"Editorial\"]\n",
    "}"
   ]
  },
  {
   "cell_type": "code",
   "execution_count": 428,
   "id": "0360e9e7-71ef-4e69-869e-37a34b0d08cc",
   "metadata": {},
   "outputs": [],
   "source": [
    "# Create a dataframe from the dictionary above and call it employee_details\n",
    "# Fetch all data from the created dataframe above\n",
    "# Fetch out evry record in the firstname\n",
    "# Fetch the last record of all the column names from the dataframe"
   ]
  },
  {
   "cell_type": "code",
   "execution_count": null,
   "id": "be169436-080d-41e3-b996-068427a053c3",
   "metadata": {},
   "outputs": [],
   "source": []
  },
  {
   "cell_type": "code",
   "execution_count": null,
   "id": "68c0e0eb-8f4d-4f01-b808-79cb28da9fbc",
   "metadata": {},
   "outputs": [],
   "source": []
  },
  {
   "cell_type": "code",
   "execution_count": 446,
   "id": "588a598e-acfc-4918-b43e-a6f6517b5ef8",
   "metadata": {},
   "outputs": [
    {
     "data": {
      "text/html": [
       "<div>\n",
       "<style scoped>\n",
       "    .dataframe tbody tr th:only-of-type {\n",
       "        vertical-align: middle;\n",
       "    }\n",
       "\n",
       "    .dataframe tbody tr th {\n",
       "        vertical-align: top;\n",
       "    }\n",
       "\n",
       "    .dataframe thead th {\n",
       "        text-align: right;\n",
       "    }\n",
       "</style>\n",
       "<table border=\"1\" class=\"dataframe\">\n",
       "  <thead>\n",
       "    <tr style=\"text-align: right;\">\n",
       "      <th></th>\n",
       "      <th>firstName</th>\n",
       "      <th>lastName</th>\n",
       "      <th>Age</th>\n",
       "      <th>Department</th>\n",
       "    </tr>\n",
       "  </thead>\n",
       "  <tbody>\n",
       "    <tr>\n",
       "      <th>0</th>\n",
       "      <td>John</td>\n",
       "      <td>Johnson</td>\n",
       "      <td>25</td>\n",
       "      <td>Sales</td>\n",
       "    </tr>\n",
       "    <tr>\n",
       "      <th>1</th>\n",
       "      <td>Dayo</td>\n",
       "      <td>Seyi</td>\n",
       "      <td>32</td>\n",
       "      <td>IT</td>\n",
       "    </tr>\n",
       "    <tr>\n",
       "      <th>2</th>\n",
       "      <td>Chika</td>\n",
       "      <td>Kingsley</td>\n",
       "      <td>19</td>\n",
       "      <td>Editorial</td>\n",
       "    </tr>\n",
       "  </tbody>\n",
       "</table>\n",
       "</div>"
      ],
      "text/plain": [
       "  firstName  lastName  Age Department\n",
       "0      John   Johnson   25      Sales\n",
       "1      Dayo      Seyi   32         IT\n",
       "2     Chika  Kingsley   19  Editorial"
      ]
     },
     "execution_count": 446,
     "metadata": {},
     "output_type": "execute_result"
    }
   ],
   "source": [
    "# Create a dataframe from the dictionary above and call it employee_details\n",
    "employee_details = pd.DataFrame(details)\n",
    "employee_details"
   ]
  },
  {
   "cell_type": "code",
   "execution_count": 450,
   "id": "1162593f-77a5-46d4-9ce0-8b001ee9fdac",
   "metadata": {},
   "outputs": [
    {
     "data": {
      "text/html": [
       "<div>\n",
       "<style scoped>\n",
       "    .dataframe tbody tr th:only-of-type {\n",
       "        vertical-align: middle;\n",
       "    }\n",
       "\n",
       "    .dataframe tbody tr th {\n",
       "        vertical-align: top;\n",
       "    }\n",
       "\n",
       "    .dataframe thead th {\n",
       "        text-align: right;\n",
       "    }\n",
       "</style>\n",
       "<table border=\"1\" class=\"dataframe\">\n",
       "  <thead>\n",
       "    <tr style=\"text-align: right;\">\n",
       "      <th></th>\n",
       "      <th>firstName</th>\n",
       "      <th>lastName</th>\n",
       "      <th>Age</th>\n",
       "      <th>Department</th>\n",
       "    </tr>\n",
       "  </thead>\n",
       "  <tbody>\n",
       "    <tr>\n",
       "      <th>0</th>\n",
       "      <td>John</td>\n",
       "      <td>Johnson</td>\n",
       "      <td>25</td>\n",
       "      <td>Sales</td>\n",
       "    </tr>\n",
       "    <tr>\n",
       "      <th>1</th>\n",
       "      <td>Dayo</td>\n",
       "      <td>Seyi</td>\n",
       "      <td>32</td>\n",
       "      <td>IT</td>\n",
       "    </tr>\n",
       "    <tr>\n",
       "      <th>2</th>\n",
       "      <td>Chika</td>\n",
       "      <td>Kingsley</td>\n",
       "      <td>19</td>\n",
       "      <td>Editorial</td>\n",
       "    </tr>\n",
       "  </tbody>\n",
       "</table>\n",
       "</div>"
      ],
      "text/plain": [
       "  firstName  lastName  Age Department\n",
       "0      John   Johnson   25      Sales\n",
       "1      Dayo      Seyi   32         IT\n",
       "2     Chika  Kingsley   19  Editorial"
      ]
     },
     "execution_count": 450,
     "metadata": {},
     "output_type": "execute_result"
    }
   ],
   "source": [
    "# Fetch all data from the created dataframe above\n",
    "employee_details"
   ]
  },
  {
   "cell_type": "code",
   "execution_count": 460,
   "id": "422fc247-7a74-4d0e-8ef0-bb881f448ded",
   "metadata": {},
   "outputs": [
    {
     "data": {
      "text/plain": [
       "0     John\n",
       "1     Dayo\n",
       "2    Chika\n",
       "Name: firstName, dtype: object"
      ]
     },
     "execution_count": 460,
     "metadata": {},
     "output_type": "execute_result"
    }
   ],
   "source": [
    "# Fetch out evry record in the firstname\n",
    "employee_details.firstName"
   ]
  },
  {
   "cell_type": "code",
   "execution_count": 470,
   "id": "db6f82f9-c97c-4084-8056-043fddf7c96d",
   "metadata": {},
   "outputs": [
    {
     "data": {
      "text/plain": [
       "firstName         Chika\n",
       "lastName       Kingsley\n",
       "Age                  19\n",
       "Department    Editorial\n",
       "Name: 2, dtype: object"
      ]
     },
     "execution_count": 470,
     "metadata": {},
     "output_type": "execute_result"
    }
   ],
   "source": [
    "employee_details.loc[2]"
   ]
  },
  {
   "cell_type": "code",
   "execution_count": 474,
   "id": "a4db0453-69de-4770-afdf-61f369c6ce55",
   "metadata": {},
   "outputs": [
    {
     "data": {
      "text/plain": [
       "'Chika'"
      ]
     },
     "execution_count": 474,
     "metadata": {},
     "output_type": "execute_result"
    }
   ],
   "source": [
    "employee_details.firstName[2]"
   ]
  },
  {
   "cell_type": "code",
   "execution_count": 511,
   "id": "53fe08a1-3bb0-4473-9b1c-52f2b3106ec0",
   "metadata": {},
   "outputs": [
    {
     "data": {
      "text/plain": [
       "0    False\n",
       "1     True\n",
       "2    False\n",
       "Name: Age, dtype: bool"
      ]
     },
     "execution_count": 511,
     "metadata": {},
     "output_type": "execute_result"
    }
   ],
   "source": [
    "# Employee Age above 30\n",
    "employee_details['Age'] > 30"
   ]
  },
  {
   "cell_type": "code",
   "execution_count": 512,
   "id": "5761da71-1e3d-451a-8943-a9179d8e991b",
   "metadata": {},
   "outputs": [
    {
     "data": {
      "text/html": [
       "<div>\n",
       "<style scoped>\n",
       "    .dataframe tbody tr th:only-of-type {\n",
       "        vertical-align: middle;\n",
       "    }\n",
       "\n",
       "    .dataframe tbody tr th {\n",
       "        vertical-align: top;\n",
       "    }\n",
       "\n",
       "    .dataframe thead th {\n",
       "        text-align: right;\n",
       "    }\n",
       "</style>\n",
       "<table border=\"1\" class=\"dataframe\">\n",
       "  <thead>\n",
       "    <tr style=\"text-align: right;\">\n",
       "      <th></th>\n",
       "      <th>firstName</th>\n",
       "      <th>lastName</th>\n",
       "      <th>Age</th>\n",
       "      <th>Department</th>\n",
       "    </tr>\n",
       "  </thead>\n",
       "  <tbody>\n",
       "    <tr>\n",
       "      <th>1</th>\n",
       "      <td>Dayo</td>\n",
       "      <td>Seyi</td>\n",
       "      <td>32</td>\n",
       "      <td>IT</td>\n",
       "    </tr>\n",
       "  </tbody>\n",
       "</table>\n",
       "</div>"
      ],
      "text/plain": [
       "  firstName lastName  Age Department\n",
       "1      Dayo     Seyi   32         IT"
      ]
     },
     "execution_count": 512,
     "metadata": {},
     "output_type": "execute_result"
    }
   ],
   "source": [
    "employee_details[employee_details['Age'] > 30]"
   ]
  },
  {
   "cell_type": "code",
   "execution_count": 513,
   "id": "686bdb6f-2efd-4e6d-8fd5-34ce4255882a",
   "metadata": {},
   "outputs": [
    {
     "data": {
      "text/plain": [
       "1    32\n",
       "Name: Age, dtype: int64"
      ]
     },
     "execution_count": 513,
     "metadata": {},
     "output_type": "execute_result"
    }
   ],
   "source": [
    "# Employee Age above 30\n",
    "employee_details[employee_details['Age'] > 30] ['Age']"
   ]
  },
  {
   "cell_type": "code",
   "execution_count": 514,
   "id": "a18bd54a-771f-4bb8-b5c2-e5688d03727e",
   "metadata": {},
   "outputs": [
    {
     "data": {
      "text/html": [
       "<div>\n",
       "<style scoped>\n",
       "    .dataframe tbody tr th:only-of-type {\n",
       "        vertical-align: middle;\n",
       "    }\n",
       "\n",
       "    .dataframe tbody tr th {\n",
       "        vertical-align: top;\n",
       "    }\n",
       "\n",
       "    .dataframe thead th {\n",
       "        text-align: right;\n",
       "    }\n",
       "</style>\n",
       "<table border=\"1\" class=\"dataframe\">\n",
       "  <thead>\n",
       "    <tr style=\"text-align: right;\">\n",
       "      <th></th>\n",
       "      <th>firstName</th>\n",
       "      <th>lastName</th>\n",
       "      <th>Age</th>\n",
       "      <th>Department</th>\n",
       "    </tr>\n",
       "  </thead>\n",
       "  <tbody>\n",
       "    <tr>\n",
       "      <th>0</th>\n",
       "      <td>John</td>\n",
       "      <td>Johnson</td>\n",
       "      <td>25</td>\n",
       "      <td>Sales</td>\n",
       "    </tr>\n",
       "  </tbody>\n",
       "</table>\n",
       "</div>"
      ],
      "text/plain": [
       "  firstName lastName  Age Department\n",
       "0      John  Johnson   25      Sales"
      ]
     },
     "execution_count": 514,
     "metadata": {},
     "output_type": "execute_result"
    }
   ],
   "source": [
    "employee_details[employee_details['Department'] == \"Sales\" ] "
   ]
  },
  {
   "cell_type": "code",
   "execution_count": 516,
   "id": "21f63178-870c-4c4b-97eb-89568828c67b",
   "metadata": {},
   "outputs": [],
   "source": [
    "a = employee_details['Age'] > 20\n",
    "b = employee_details['Department'] == \"IT\" "
   ]
  },
  {
   "cell_type": "code",
   "execution_count": 517,
   "id": "6c6b774c-6f5e-433d-9c0d-daf51cdabcbb",
   "metadata": {},
   "outputs": [
    {
     "data": {
      "text/html": [
       "<div>\n",
       "<style scoped>\n",
       "    .dataframe tbody tr th:only-of-type {\n",
       "        vertical-align: middle;\n",
       "    }\n",
       "\n",
       "    .dataframe tbody tr th {\n",
       "        vertical-align: top;\n",
       "    }\n",
       "\n",
       "    .dataframe thead th {\n",
       "        text-align: right;\n",
       "    }\n",
       "</style>\n",
       "<table border=\"1\" class=\"dataframe\">\n",
       "  <thead>\n",
       "    <tr style=\"text-align: right;\">\n",
       "      <th></th>\n",
       "      <th>firstName</th>\n",
       "      <th>lastName</th>\n",
       "      <th>Age</th>\n",
       "      <th>Department</th>\n",
       "    </tr>\n",
       "  </thead>\n",
       "  <tbody>\n",
       "    <tr>\n",
       "      <th>0</th>\n",
       "      <td>John</td>\n",
       "      <td>Johnson</td>\n",
       "      <td>25</td>\n",
       "      <td>Sales</td>\n",
       "    </tr>\n",
       "    <tr>\n",
       "      <th>1</th>\n",
       "      <td>Dayo</td>\n",
       "      <td>Seyi</td>\n",
       "      <td>32</td>\n",
       "      <td>IT</td>\n",
       "    </tr>\n",
       "  </tbody>\n",
       "</table>\n",
       "</div>"
      ],
      "text/plain": [
       "  firstName lastName  Age Department\n",
       "0      John  Johnson   25      Sales\n",
       "1      Dayo     Seyi   32         IT"
      ]
     },
     "execution_count": 517,
     "metadata": {},
     "output_type": "execute_result"
    }
   ],
   "source": [
    "employee_details[a | b]"
   ]
  },
  {
   "cell_type": "markdown",
   "id": "1a5fa8ed-0e80-4d45-99d2-5a19d75e19f9",
   "metadata": {},
   "source": [
    "### ADD NEW COLUMN TO AN EXISTING DATAFRAME"
   ]
  },
  {
   "cell_type": "code",
   "execution_count": 518,
   "id": "7f3b2f3b-6323-4717-98eb-20b96f211678",
   "metadata": {},
   "outputs": [
    {
     "data": {
      "text/html": [
       "<div>\n",
       "<style scoped>\n",
       "    .dataframe tbody tr th:only-of-type {\n",
       "        vertical-align: middle;\n",
       "    }\n",
       "\n",
       "    .dataframe tbody tr th {\n",
       "        vertical-align: top;\n",
       "    }\n",
       "\n",
       "    .dataframe thead th {\n",
       "        text-align: right;\n",
       "    }\n",
       "</style>\n",
       "<table border=\"1\" class=\"dataframe\">\n",
       "  <thead>\n",
       "    <tr style=\"text-align: right;\">\n",
       "      <th></th>\n",
       "      <th>firstName</th>\n",
       "      <th>lastName</th>\n",
       "      <th>Age</th>\n",
       "      <th>Department</th>\n",
       "    </tr>\n",
       "  </thead>\n",
       "  <tbody>\n",
       "    <tr>\n",
       "      <th>0</th>\n",
       "      <td>John</td>\n",
       "      <td>Johnson</td>\n",
       "      <td>25</td>\n",
       "      <td>Sales</td>\n",
       "    </tr>\n",
       "    <tr>\n",
       "      <th>1</th>\n",
       "      <td>Dayo</td>\n",
       "      <td>Seyi</td>\n",
       "      <td>32</td>\n",
       "      <td>IT</td>\n",
       "    </tr>\n",
       "    <tr>\n",
       "      <th>2</th>\n",
       "      <td>Chika</td>\n",
       "      <td>Kingsley</td>\n",
       "      <td>19</td>\n",
       "      <td>Editorial</td>\n",
       "    </tr>\n",
       "  </tbody>\n",
       "</table>\n",
       "</div>"
      ],
      "text/plain": [
       "  firstName  lastName  Age Department\n",
       "0      John   Johnson   25      Sales\n",
       "1      Dayo      Seyi   32         IT\n",
       "2     Chika  Kingsley   19  Editorial"
      ]
     },
     "execution_count": 518,
     "metadata": {},
     "output_type": "execute_result"
    }
   ],
   "source": [
    "employee_details"
   ]
  },
  {
   "cell_type": "code",
   "execution_count": 519,
   "id": "02ff2ddb-f7f0-4d5f-a4f5-1d83bfd85b96",
   "metadata": {},
   "outputs": [],
   "source": [
    "employee_details['Salary'] = [100000, 250000, 170000]"
   ]
  },
  {
   "cell_type": "code",
   "execution_count": 520,
   "id": "53585b8d-fe09-4ca6-94ce-23446fd3fb46",
   "metadata": {},
   "outputs": [
    {
     "data": {
      "text/html": [
       "<div>\n",
       "<style scoped>\n",
       "    .dataframe tbody tr th:only-of-type {\n",
       "        vertical-align: middle;\n",
       "    }\n",
       "\n",
       "    .dataframe tbody tr th {\n",
       "        vertical-align: top;\n",
       "    }\n",
       "\n",
       "    .dataframe thead th {\n",
       "        text-align: right;\n",
       "    }\n",
       "</style>\n",
       "<table border=\"1\" class=\"dataframe\">\n",
       "  <thead>\n",
       "    <tr style=\"text-align: right;\">\n",
       "      <th></th>\n",
       "      <th>firstName</th>\n",
       "      <th>lastName</th>\n",
       "      <th>Age</th>\n",
       "      <th>Department</th>\n",
       "      <th>Salary</th>\n",
       "    </tr>\n",
       "  </thead>\n",
       "  <tbody>\n",
       "    <tr>\n",
       "      <th>0</th>\n",
       "      <td>John</td>\n",
       "      <td>Johnson</td>\n",
       "      <td>25</td>\n",
       "      <td>Sales</td>\n",
       "      <td>100000</td>\n",
       "    </tr>\n",
       "    <tr>\n",
       "      <th>1</th>\n",
       "      <td>Dayo</td>\n",
       "      <td>Seyi</td>\n",
       "      <td>32</td>\n",
       "      <td>IT</td>\n",
       "      <td>250000</td>\n",
       "    </tr>\n",
       "    <tr>\n",
       "      <th>2</th>\n",
       "      <td>Chika</td>\n",
       "      <td>Kingsley</td>\n",
       "      <td>19</td>\n",
       "      <td>Editorial</td>\n",
       "      <td>170000</td>\n",
       "    </tr>\n",
       "  </tbody>\n",
       "</table>\n",
       "</div>"
      ],
      "text/plain": [
       "  firstName  lastName  Age Department  Salary\n",
       "0      John   Johnson   25      Sales  100000\n",
       "1      Dayo      Seyi   32         IT  250000\n",
       "2     Chika  Kingsley   19  Editorial  170000"
      ]
     },
     "execution_count": 520,
     "metadata": {},
     "output_type": "execute_result"
    }
   ],
   "source": [
    "employee_details"
   ]
  },
  {
   "cell_type": "code",
   "execution_count": null,
   "id": "4981e130-7fbb-49ca-8cb8-f776263d069e",
   "metadata": {},
   "outputs": [],
   "source": []
  }
 ],
 "metadata": {
  "kernelspec": {
   "display_name": "Python 3 (ipykernel)",
   "language": "python",
   "name": "python3"
  },
  "language_info": {
   "codemirror_mode": {
    "name": "ipython",
    "version": 3
   },
   "file_extension": ".py",
   "mimetype": "text/x-python",
   "name": "python",
   "nbconvert_exporter": "python",
   "pygments_lexer": "ipython3",
   "version": "3.12.4"
  }
 },
 "nbformat": 4,
 "nbformat_minor": 5
}
